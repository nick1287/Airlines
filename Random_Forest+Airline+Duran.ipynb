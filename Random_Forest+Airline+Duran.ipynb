{
  "nbformat": 4,
  "nbformat_minor": 0,
  "metadata": {
    "colab": {
      "provenance": [],
      "collapsed_sections": [],
      "authorship_tag": "ABX9TyNTY5LPV+CJXi2yV5Nn79up",
      "include_colab_link": true
    },
    "kernelspec": {
      "name": "python3",
      "display_name": "Python 3"
    },
    "language_info": {
      "name": "python"
    }
  },
  "cells": [
    {
      "cell_type": "markdown",
      "metadata": {
        "id": "view-in-github",
        "colab_type": "text"
      },
      "source": [
        "<a href=\"https://colab.research.google.com/github/nick1287/Airlines/blob/main/Random_Forest%2BAirline%2BDuran.ipynb\" target=\"_parent\"><img src=\"https://colab.research.google.com/assets/colab-badge.svg\" alt=\"Open In Colab\"/></a>"
      ]
    },
    {
      "cell_type": "markdown",
      "source": [
        "El proyecto es se trata de analizar las variables para determinar cuales son los motivos de los delays.\n",
        "\n",
        "\n",
        "1.Airline (Nombre de la aerolinea)\n",
        "2.Flight (Numero de vuelo)\n",
        "3.Airport From (Aeropuerto Origen)\n",
        "4.Airport To (Aeropuerto Destino)\n",
        "5.DayOfWeek (Dia de la semana)\n",
        "6.Time (Duracion del vuelo)\n",
        "7.Length (Distancia recorrida)\n",
        "8.Delay (Si llego tarde o no)\n"
      ],
      "metadata": {
        "id": "Xy1nrvxOXuaJ"
      }
    },
    {
      "cell_type": "markdown",
      "source": [
        "https://www.kaggle.com/code/jominjae/airline-delay-prediction-logistic-decisiontree/data"
      ],
      "metadata": {
        "id": "W9nsT4WEXsTt"
      }
    },
    {
      "cell_type": "markdown",
      "source": [
        "# Random forest"
      ],
      "metadata": {
        "id": "swsphQxsXY7d"
      }
    },
    {
      "cell_type": "markdown",
      "source": [
        "Se utilizara esta metodologia para ver si existe una mayor probabilidad de clasificacion correcta."
      ],
      "metadata": {
        "id": "Dn1UTkZYvVN0"
      }
    },
    {
      "cell_type": "code",
      "execution_count": null,
      "metadata": {
        "id": "-G1uuKFusEf9"
      },
      "outputs": [],
      "source": [
        "import pandas as pd\n",
        "import numpy as np\n",
        "import matplotlib.pyplot as plt\n",
        "import seaborn as sns\n",
        "from sklearn.preprocessing import OneHotEncoder #Para convertir Airline, AirportFrom, AirportTo,DayOfWeek en variables categoricas"
      ]
    },
    {
      "cell_type": "code",
      "source": [
        "df = pd.read_csv('Airlines.csv',index_col=0)\n",
        "df.head()"
      ],
      "metadata": {
        "id": "hIbVsPTcyzom",
        "colab": {
          "base_uri": "https://localhost:8080/",
          "height": 238
        },
        "outputId": "746d476b-e22f-4f45-ec56-8964b57ce4bb"
      },
      "execution_count": null,
      "outputs": [
        {
          "output_type": "execute_result",
          "data": {
            "text/plain": [
              "   Airline  Flight AirportFrom AirportTo  DayOfWeek  Time  Length  Delay\n",
              "id                                                                      \n",
              "1       CO     269         SFO       IAH          3    15     205      1\n",
              "2       US    1558         PHX       CLT          3    15     222      1\n",
              "3       AA    2400         LAX       DFW          3    20     165      1\n",
              "4       AA    2466         SFO       DFW          3    20     195      1\n",
              "5       AS     108         ANC       SEA          3    30     202      0"
            ],
            "text/html": [
              "\n",
              "  <div id=\"df-8cc83b01-001b-4821-8541-c41ae8729b9a\">\n",
              "    <div class=\"colab-df-container\">\n",
              "      <div>\n",
              "<style scoped>\n",
              "    .dataframe tbody tr th:only-of-type {\n",
              "        vertical-align: middle;\n",
              "    }\n",
              "\n",
              "    .dataframe tbody tr th {\n",
              "        vertical-align: top;\n",
              "    }\n",
              "\n",
              "    .dataframe thead th {\n",
              "        text-align: right;\n",
              "    }\n",
              "</style>\n",
              "<table border=\"1\" class=\"dataframe\">\n",
              "  <thead>\n",
              "    <tr style=\"text-align: right;\">\n",
              "      <th></th>\n",
              "      <th>Airline</th>\n",
              "      <th>Flight</th>\n",
              "      <th>AirportFrom</th>\n",
              "      <th>AirportTo</th>\n",
              "      <th>DayOfWeek</th>\n",
              "      <th>Time</th>\n",
              "      <th>Length</th>\n",
              "      <th>Delay</th>\n",
              "    </tr>\n",
              "    <tr>\n",
              "      <th>id</th>\n",
              "      <th></th>\n",
              "      <th></th>\n",
              "      <th></th>\n",
              "      <th></th>\n",
              "      <th></th>\n",
              "      <th></th>\n",
              "      <th></th>\n",
              "      <th></th>\n",
              "    </tr>\n",
              "  </thead>\n",
              "  <tbody>\n",
              "    <tr>\n",
              "      <th>1</th>\n",
              "      <td>CO</td>\n",
              "      <td>269</td>\n",
              "      <td>SFO</td>\n",
              "      <td>IAH</td>\n",
              "      <td>3</td>\n",
              "      <td>15</td>\n",
              "      <td>205</td>\n",
              "      <td>1</td>\n",
              "    </tr>\n",
              "    <tr>\n",
              "      <th>2</th>\n",
              "      <td>US</td>\n",
              "      <td>1558</td>\n",
              "      <td>PHX</td>\n",
              "      <td>CLT</td>\n",
              "      <td>3</td>\n",
              "      <td>15</td>\n",
              "      <td>222</td>\n",
              "      <td>1</td>\n",
              "    </tr>\n",
              "    <tr>\n",
              "      <th>3</th>\n",
              "      <td>AA</td>\n",
              "      <td>2400</td>\n",
              "      <td>LAX</td>\n",
              "      <td>DFW</td>\n",
              "      <td>3</td>\n",
              "      <td>20</td>\n",
              "      <td>165</td>\n",
              "      <td>1</td>\n",
              "    </tr>\n",
              "    <tr>\n",
              "      <th>4</th>\n",
              "      <td>AA</td>\n",
              "      <td>2466</td>\n",
              "      <td>SFO</td>\n",
              "      <td>DFW</td>\n",
              "      <td>3</td>\n",
              "      <td>20</td>\n",
              "      <td>195</td>\n",
              "      <td>1</td>\n",
              "    </tr>\n",
              "    <tr>\n",
              "      <th>5</th>\n",
              "      <td>AS</td>\n",
              "      <td>108</td>\n",
              "      <td>ANC</td>\n",
              "      <td>SEA</td>\n",
              "      <td>3</td>\n",
              "      <td>30</td>\n",
              "      <td>202</td>\n",
              "      <td>0</td>\n",
              "    </tr>\n",
              "  </tbody>\n",
              "</table>\n",
              "</div>\n",
              "      <button class=\"colab-df-convert\" onclick=\"convertToInteractive('df-8cc83b01-001b-4821-8541-c41ae8729b9a')\"\n",
              "              title=\"Convert this dataframe to an interactive table.\"\n",
              "              style=\"display:none;\">\n",
              "        \n",
              "  <svg xmlns=\"http://www.w3.org/2000/svg\" height=\"24px\"viewBox=\"0 0 24 24\"\n",
              "       width=\"24px\">\n",
              "    <path d=\"M0 0h24v24H0V0z\" fill=\"none\"/>\n",
              "    <path d=\"M18.56 5.44l.94 2.06.94-2.06 2.06-.94-2.06-.94-.94-2.06-.94 2.06-2.06.94zm-11 1L8.5 8.5l.94-2.06 2.06-.94-2.06-.94L8.5 2.5l-.94 2.06-2.06.94zm10 10l.94 2.06.94-2.06 2.06-.94-2.06-.94-.94-2.06-.94 2.06-2.06.94z\"/><path d=\"M17.41 7.96l-1.37-1.37c-.4-.4-.92-.59-1.43-.59-.52 0-1.04.2-1.43.59L10.3 9.45l-7.72 7.72c-.78.78-.78 2.05 0 2.83L4 21.41c.39.39.9.59 1.41.59.51 0 1.02-.2 1.41-.59l7.78-7.78 2.81-2.81c.8-.78.8-2.07 0-2.86zM5.41 20L4 18.59l7.72-7.72 1.47 1.35L5.41 20z\"/>\n",
              "  </svg>\n",
              "      </button>\n",
              "      \n",
              "  <style>\n",
              "    .colab-df-container {\n",
              "      display:flex;\n",
              "      flex-wrap:wrap;\n",
              "      gap: 12px;\n",
              "    }\n",
              "\n",
              "    .colab-df-convert {\n",
              "      background-color: #E8F0FE;\n",
              "      border: none;\n",
              "      border-radius: 50%;\n",
              "      cursor: pointer;\n",
              "      display: none;\n",
              "      fill: #1967D2;\n",
              "      height: 32px;\n",
              "      padding: 0 0 0 0;\n",
              "      width: 32px;\n",
              "    }\n",
              "\n",
              "    .colab-df-convert:hover {\n",
              "      background-color: #E2EBFA;\n",
              "      box-shadow: 0px 1px 2px rgba(60, 64, 67, 0.3), 0px 1px 3px 1px rgba(60, 64, 67, 0.15);\n",
              "      fill: #174EA6;\n",
              "    }\n",
              "\n",
              "    [theme=dark] .colab-df-convert {\n",
              "      background-color: #3B4455;\n",
              "      fill: #D2E3FC;\n",
              "    }\n",
              "\n",
              "    [theme=dark] .colab-df-convert:hover {\n",
              "      background-color: #434B5C;\n",
              "      box-shadow: 0px 1px 3px 1px rgba(0, 0, 0, 0.15);\n",
              "      filter: drop-shadow(0px 1px 2px rgba(0, 0, 0, 0.3));\n",
              "      fill: #FFFFFF;\n",
              "    }\n",
              "  </style>\n",
              "\n",
              "      <script>\n",
              "        const buttonEl =\n",
              "          document.querySelector('#df-8cc83b01-001b-4821-8541-c41ae8729b9a button.colab-df-convert');\n",
              "        buttonEl.style.display =\n",
              "          google.colab.kernel.accessAllowed ? 'block' : 'none';\n",
              "\n",
              "        async function convertToInteractive(key) {\n",
              "          const element = document.querySelector('#df-8cc83b01-001b-4821-8541-c41ae8729b9a');\n",
              "          const dataTable =\n",
              "            await google.colab.kernel.invokeFunction('convertToInteractive',\n",
              "                                                     [key], {});\n",
              "          if (!dataTable) return;\n",
              "\n",
              "          const docLinkHtml = 'Like what you see? Visit the ' +\n",
              "            '<a target=\"_blank\" href=https://colab.research.google.com/notebooks/data_table.ipynb>data table notebook</a>'\n",
              "            + ' to learn more about interactive tables.';\n",
              "          element.innerHTML = '';\n",
              "          dataTable['output_type'] = 'display_data';\n",
              "          await google.colab.output.renderOutput(dataTable, element);\n",
              "          const docLink = document.createElement('div');\n",
              "          docLink.innerHTML = docLinkHtml;\n",
              "          element.appendChild(docLink);\n",
              "        }\n",
              "      </script>\n",
              "    </div>\n",
              "  </div>\n",
              "  "
            ]
          },
          "metadata": {},
          "execution_count": 7
        }
      ]
    },
    {
      "cell_type": "code",
      "source": [
        "df.shape"
      ],
      "metadata": {
        "colab": {
          "base_uri": "https://localhost:8080/"
        },
        "id": "zrvpjxdMl78C",
        "outputId": "98af2712-ff66-4dbb-ab55-c25048d38ba2"
      },
      "execution_count": null,
      "outputs": [
        {
          "output_type": "execute_result",
          "data": {
            "text/plain": [
              "(539383, 8)"
            ]
          },
          "metadata": {},
          "execution_count": 8
        }
      ]
    },
    {
      "cell_type": "code",
      "source": [
        "df.info()"
      ],
      "metadata": {
        "id": "lqqUW2kbdMvy",
        "colab": {
          "base_uri": "https://localhost:8080/"
        },
        "outputId": "0fbfbc13-2455-4bb8-9a7b-3f7393ce744b"
      },
      "execution_count": null,
      "outputs": [
        {
          "output_type": "stream",
          "name": "stdout",
          "text": [
            "<class 'pandas.core.frame.DataFrame'>\n",
            "Int64Index: 539383 entries, 1 to 539383\n",
            "Data columns (total 8 columns):\n",
            " #   Column       Non-Null Count   Dtype \n",
            "---  ------       --------------   ----- \n",
            " 0   Airline      539383 non-null  object\n",
            " 1   Flight       539383 non-null  int64 \n",
            " 2   AirportFrom  539383 non-null  object\n",
            " 3   AirportTo    539383 non-null  object\n",
            " 4   DayOfWeek    539383 non-null  int64 \n",
            " 5   Time         539383 non-null  int64 \n",
            " 6   Length       539383 non-null  int64 \n",
            " 7   Delay        539383 non-null  int64 \n",
            "dtypes: int64(5), object(3)\n",
            "memory usage: 37.0+ MB\n"
          ]
        }
      ]
    },
    {
      "cell_type": "code",
      "source": [
        "airfrom = df['AirportFrom'].value_counts() #Hago un conteo de los aeropuestos origen mas importantes\n",
        "airto = df['AirportTo'].value_counts() #Hago un conteo de los aeropuestos destino mas importantes\n",
        "df['AirportFrom'] = df['AirportFrom'].apply(lambda s: s if str(s) in airfrom[:50] else 'others') #Hago el top 50\n",
        "df['AirportTo'] = df['AirportTo'].apply(lambda s: s if str(s) in airto[:50] else 'others') #Hago el top 50\n"
      ],
      "metadata": {
        "id": "0LaiePDNxwX8"
      },
      "execution_count": null,
      "outputs": []
    },
    {
      "cell_type": "code",
      "source": [
        "OHE = OneHotEncoder(handle_unknown='ignore', sparse=False)"
      ],
      "metadata": {
        "id": "52GQ57at1MlN"
      },
      "execution_count": null,
      "outputs": []
    },
    {
      "cell_type": "code",
      "source": [
        "OHE.fit(df[['AirportFrom','Airline','AirportTo','DayOfWeek']])"
      ],
      "metadata": {
        "colab": {
          "base_uri": "https://localhost:8080/"
        },
        "id": "jzDEzA2T1nyO",
        "outputId": "df93823b-3af2-4b31-e9fd-85d90e422f1b"
      },
      "execution_count": null,
      "outputs": [
        {
          "output_type": "execute_result",
          "data": {
            "text/plain": [
              "OneHotEncoder(handle_unknown='ignore', sparse=False)"
            ]
          },
          "metadata": {},
          "execution_count": 12
        }
      ]
    },
    {
      "cell_type": "code",
      "source": [
        "def get_ohe(df):\n",
        "    temp_df = pd.DataFrame(data=OHE.transform(df[['AirportFrom','Airline','AirportTo','DayOfWeek']]), columns=OHE.get_feature_names_out())\n",
        "    #C = df.drop(columns=['AirportFrom'], axis=1, inplace=False)\n",
        "    C = df\n",
        "    C = pd.concat([C.reset_index(drop=True), temp_df], axis=1)\n",
        "    return C"
      ],
      "metadata": {
        "id": "anX4qEGK24hQ"
      },
      "execution_count": null,
      "outputs": []
    },
    {
      "cell_type": "code",
      "source": [
        "df_allvariables = get_ohe(df)\n",
        "df_allvariables"
      ],
      "metadata": {
        "colab": {
          "base_uri": "https://localhost:8080/",
          "height": 488
        },
        "id": "6zAqB2HYi8fb",
        "outputId": "edf85161-7e74-4841-c1b9-cbadd407f055"
      },
      "execution_count": null,
      "outputs": [
        {
          "output_type": "execute_result",
          "data": {
            "text/plain": [
              "       Airline  Flight AirportFrom AirportTo  DayOfWeek  Time  Length  Delay  \\\n",
              "0           CO     269         SFO       IAH          3    15     205      1   \n",
              "1           US    1558         PHX       CLT          3    15     222      1   \n",
              "2           AA    2400         LAX       DFW          3    20     165      1   \n",
              "3           AA    2466         SFO       DFW          3    20     195      1   \n",
              "4           AS     108      others       SEA          3    30     202      0   \n",
              "...        ...     ...         ...       ...        ...   ...     ...    ...   \n",
              "539378      CO     178      others       SNA          5  1439     326      0   \n",
              "539379      FL     398         SEA       ATL          5  1439     305      0   \n",
              "539380      FL     609         SFO       MKE          5  1439     255      0   \n",
              "539381      UA      78         HNL       SFO          5  1439     313      1   \n",
              "539382      US    1442         LAX       PHL          5  1439     301      1   \n",
              "\n",
              "        AirportFrom_ABQ  AirportFrom_ATL  ...  AirportTo_STL  AirportTo_TPA  \\\n",
              "0                   0.0              0.0  ...            0.0            0.0   \n",
              "1                   0.0              0.0  ...            0.0            0.0   \n",
              "2                   0.0              0.0  ...            0.0            0.0   \n",
              "3                   0.0              0.0  ...            0.0            0.0   \n",
              "4                   0.0              0.0  ...            0.0            0.0   \n",
              "...                 ...              ...  ...            ...            ...   \n",
              "539378              0.0              0.0  ...            0.0            0.0   \n",
              "539379              0.0              0.0  ...            0.0            0.0   \n",
              "539380              0.0              0.0  ...            0.0            0.0   \n",
              "539381              0.0              0.0  ...            0.0            0.0   \n",
              "539382              0.0              0.0  ...            0.0            0.0   \n",
              "\n",
              "        AirportTo_others  DayOfWeek_1  DayOfWeek_2  DayOfWeek_3  DayOfWeek_4  \\\n",
              "0                    0.0          0.0          0.0          1.0          0.0   \n",
              "1                    0.0          0.0          0.0          1.0          0.0   \n",
              "2                    0.0          0.0          0.0          1.0          0.0   \n",
              "3                    0.0          0.0          0.0          1.0          0.0   \n",
              "4                    0.0          0.0          0.0          1.0          0.0   \n",
              "...                  ...          ...          ...          ...          ...   \n",
              "539378               0.0          0.0          0.0          0.0          0.0   \n",
              "539379               0.0          0.0          0.0          0.0          0.0   \n",
              "539380               0.0          0.0          0.0          0.0          0.0   \n",
              "539381               0.0          0.0          0.0          0.0          0.0   \n",
              "539382               0.0          0.0          0.0          0.0          0.0   \n",
              "\n",
              "        DayOfWeek_5  DayOfWeek_6  DayOfWeek_7  \n",
              "0               0.0          0.0          0.0  \n",
              "1               0.0          0.0          0.0  \n",
              "2               0.0          0.0          0.0  \n",
              "3               0.0          0.0          0.0  \n",
              "4               0.0          0.0          0.0  \n",
              "...             ...          ...          ...  \n",
              "539378          1.0          0.0          0.0  \n",
              "539379          1.0          0.0          0.0  \n",
              "539380          1.0          0.0          0.0  \n",
              "539381          1.0          0.0          0.0  \n",
              "539382          1.0          0.0          0.0  \n",
              "\n",
              "[539383 rows x 135 columns]"
            ],
            "text/html": [
              "\n",
              "  <div id=\"df-e2a7120a-2223-4e9c-8752-a81c3ced83ab\">\n",
              "    <div class=\"colab-df-container\">\n",
              "      <div>\n",
              "<style scoped>\n",
              "    .dataframe tbody tr th:only-of-type {\n",
              "        vertical-align: middle;\n",
              "    }\n",
              "\n",
              "    .dataframe tbody tr th {\n",
              "        vertical-align: top;\n",
              "    }\n",
              "\n",
              "    .dataframe thead th {\n",
              "        text-align: right;\n",
              "    }\n",
              "</style>\n",
              "<table border=\"1\" class=\"dataframe\">\n",
              "  <thead>\n",
              "    <tr style=\"text-align: right;\">\n",
              "      <th></th>\n",
              "      <th>Airline</th>\n",
              "      <th>Flight</th>\n",
              "      <th>AirportFrom</th>\n",
              "      <th>AirportTo</th>\n",
              "      <th>DayOfWeek</th>\n",
              "      <th>Time</th>\n",
              "      <th>Length</th>\n",
              "      <th>Delay</th>\n",
              "      <th>AirportFrom_ABQ</th>\n",
              "      <th>AirportFrom_ATL</th>\n",
              "      <th>...</th>\n",
              "      <th>AirportTo_STL</th>\n",
              "      <th>AirportTo_TPA</th>\n",
              "      <th>AirportTo_others</th>\n",
              "      <th>DayOfWeek_1</th>\n",
              "      <th>DayOfWeek_2</th>\n",
              "      <th>DayOfWeek_3</th>\n",
              "      <th>DayOfWeek_4</th>\n",
              "      <th>DayOfWeek_5</th>\n",
              "      <th>DayOfWeek_6</th>\n",
              "      <th>DayOfWeek_7</th>\n",
              "    </tr>\n",
              "  </thead>\n",
              "  <tbody>\n",
              "    <tr>\n",
              "      <th>0</th>\n",
              "      <td>CO</td>\n",
              "      <td>269</td>\n",
              "      <td>SFO</td>\n",
              "      <td>IAH</td>\n",
              "      <td>3</td>\n",
              "      <td>15</td>\n",
              "      <td>205</td>\n",
              "      <td>1</td>\n",
              "      <td>0.0</td>\n",
              "      <td>0.0</td>\n",
              "      <td>...</td>\n",
              "      <td>0.0</td>\n",
              "      <td>0.0</td>\n",
              "      <td>0.0</td>\n",
              "      <td>0.0</td>\n",
              "      <td>0.0</td>\n",
              "      <td>1.0</td>\n",
              "      <td>0.0</td>\n",
              "      <td>0.0</td>\n",
              "      <td>0.0</td>\n",
              "      <td>0.0</td>\n",
              "    </tr>\n",
              "    <tr>\n",
              "      <th>1</th>\n",
              "      <td>US</td>\n",
              "      <td>1558</td>\n",
              "      <td>PHX</td>\n",
              "      <td>CLT</td>\n",
              "      <td>3</td>\n",
              "      <td>15</td>\n",
              "      <td>222</td>\n",
              "      <td>1</td>\n",
              "      <td>0.0</td>\n",
              "      <td>0.0</td>\n",
              "      <td>...</td>\n",
              "      <td>0.0</td>\n",
              "      <td>0.0</td>\n",
              "      <td>0.0</td>\n",
              "      <td>0.0</td>\n",
              "      <td>0.0</td>\n",
              "      <td>1.0</td>\n",
              "      <td>0.0</td>\n",
              "      <td>0.0</td>\n",
              "      <td>0.0</td>\n",
              "      <td>0.0</td>\n",
              "    </tr>\n",
              "    <tr>\n",
              "      <th>2</th>\n",
              "      <td>AA</td>\n",
              "      <td>2400</td>\n",
              "      <td>LAX</td>\n",
              "      <td>DFW</td>\n",
              "      <td>3</td>\n",
              "      <td>20</td>\n",
              "      <td>165</td>\n",
              "      <td>1</td>\n",
              "      <td>0.0</td>\n",
              "      <td>0.0</td>\n",
              "      <td>...</td>\n",
              "      <td>0.0</td>\n",
              "      <td>0.0</td>\n",
              "      <td>0.0</td>\n",
              "      <td>0.0</td>\n",
              "      <td>0.0</td>\n",
              "      <td>1.0</td>\n",
              "      <td>0.0</td>\n",
              "      <td>0.0</td>\n",
              "      <td>0.0</td>\n",
              "      <td>0.0</td>\n",
              "    </tr>\n",
              "    <tr>\n",
              "      <th>3</th>\n",
              "      <td>AA</td>\n",
              "      <td>2466</td>\n",
              "      <td>SFO</td>\n",
              "      <td>DFW</td>\n",
              "      <td>3</td>\n",
              "      <td>20</td>\n",
              "      <td>195</td>\n",
              "      <td>1</td>\n",
              "      <td>0.0</td>\n",
              "      <td>0.0</td>\n",
              "      <td>...</td>\n",
              "      <td>0.0</td>\n",
              "      <td>0.0</td>\n",
              "      <td>0.0</td>\n",
              "      <td>0.0</td>\n",
              "      <td>0.0</td>\n",
              "      <td>1.0</td>\n",
              "      <td>0.0</td>\n",
              "      <td>0.0</td>\n",
              "      <td>0.0</td>\n",
              "      <td>0.0</td>\n",
              "    </tr>\n",
              "    <tr>\n",
              "      <th>4</th>\n",
              "      <td>AS</td>\n",
              "      <td>108</td>\n",
              "      <td>others</td>\n",
              "      <td>SEA</td>\n",
              "      <td>3</td>\n",
              "      <td>30</td>\n",
              "      <td>202</td>\n",
              "      <td>0</td>\n",
              "      <td>0.0</td>\n",
              "      <td>0.0</td>\n",
              "      <td>...</td>\n",
              "      <td>0.0</td>\n",
              "      <td>0.0</td>\n",
              "      <td>0.0</td>\n",
              "      <td>0.0</td>\n",
              "      <td>0.0</td>\n",
              "      <td>1.0</td>\n",
              "      <td>0.0</td>\n",
              "      <td>0.0</td>\n",
              "      <td>0.0</td>\n",
              "      <td>0.0</td>\n",
              "    </tr>\n",
              "    <tr>\n",
              "      <th>...</th>\n",
              "      <td>...</td>\n",
              "      <td>...</td>\n",
              "      <td>...</td>\n",
              "      <td>...</td>\n",
              "      <td>...</td>\n",
              "      <td>...</td>\n",
              "      <td>...</td>\n",
              "      <td>...</td>\n",
              "      <td>...</td>\n",
              "      <td>...</td>\n",
              "      <td>...</td>\n",
              "      <td>...</td>\n",
              "      <td>...</td>\n",
              "      <td>...</td>\n",
              "      <td>...</td>\n",
              "      <td>...</td>\n",
              "      <td>...</td>\n",
              "      <td>...</td>\n",
              "      <td>...</td>\n",
              "      <td>...</td>\n",
              "      <td>...</td>\n",
              "    </tr>\n",
              "    <tr>\n",
              "      <th>539378</th>\n",
              "      <td>CO</td>\n",
              "      <td>178</td>\n",
              "      <td>others</td>\n",
              "      <td>SNA</td>\n",
              "      <td>5</td>\n",
              "      <td>1439</td>\n",
              "      <td>326</td>\n",
              "      <td>0</td>\n",
              "      <td>0.0</td>\n",
              "      <td>0.0</td>\n",
              "      <td>...</td>\n",
              "      <td>0.0</td>\n",
              "      <td>0.0</td>\n",
              "      <td>0.0</td>\n",
              "      <td>0.0</td>\n",
              "      <td>0.0</td>\n",
              "      <td>0.0</td>\n",
              "      <td>0.0</td>\n",
              "      <td>1.0</td>\n",
              "      <td>0.0</td>\n",
              "      <td>0.0</td>\n",
              "    </tr>\n",
              "    <tr>\n",
              "      <th>539379</th>\n",
              "      <td>FL</td>\n",
              "      <td>398</td>\n",
              "      <td>SEA</td>\n",
              "      <td>ATL</td>\n",
              "      <td>5</td>\n",
              "      <td>1439</td>\n",
              "      <td>305</td>\n",
              "      <td>0</td>\n",
              "      <td>0.0</td>\n",
              "      <td>0.0</td>\n",
              "      <td>...</td>\n",
              "      <td>0.0</td>\n",
              "      <td>0.0</td>\n",
              "      <td>0.0</td>\n",
              "      <td>0.0</td>\n",
              "      <td>0.0</td>\n",
              "      <td>0.0</td>\n",
              "      <td>0.0</td>\n",
              "      <td>1.0</td>\n",
              "      <td>0.0</td>\n",
              "      <td>0.0</td>\n",
              "    </tr>\n",
              "    <tr>\n",
              "      <th>539380</th>\n",
              "      <td>FL</td>\n",
              "      <td>609</td>\n",
              "      <td>SFO</td>\n",
              "      <td>MKE</td>\n",
              "      <td>5</td>\n",
              "      <td>1439</td>\n",
              "      <td>255</td>\n",
              "      <td>0</td>\n",
              "      <td>0.0</td>\n",
              "      <td>0.0</td>\n",
              "      <td>...</td>\n",
              "      <td>0.0</td>\n",
              "      <td>0.0</td>\n",
              "      <td>0.0</td>\n",
              "      <td>0.0</td>\n",
              "      <td>0.0</td>\n",
              "      <td>0.0</td>\n",
              "      <td>0.0</td>\n",
              "      <td>1.0</td>\n",
              "      <td>0.0</td>\n",
              "      <td>0.0</td>\n",
              "    </tr>\n",
              "    <tr>\n",
              "      <th>539381</th>\n",
              "      <td>UA</td>\n",
              "      <td>78</td>\n",
              "      <td>HNL</td>\n",
              "      <td>SFO</td>\n",
              "      <td>5</td>\n",
              "      <td>1439</td>\n",
              "      <td>313</td>\n",
              "      <td>1</td>\n",
              "      <td>0.0</td>\n",
              "      <td>0.0</td>\n",
              "      <td>...</td>\n",
              "      <td>0.0</td>\n",
              "      <td>0.0</td>\n",
              "      <td>0.0</td>\n",
              "      <td>0.0</td>\n",
              "      <td>0.0</td>\n",
              "      <td>0.0</td>\n",
              "      <td>0.0</td>\n",
              "      <td>1.0</td>\n",
              "      <td>0.0</td>\n",
              "      <td>0.0</td>\n",
              "    </tr>\n",
              "    <tr>\n",
              "      <th>539382</th>\n",
              "      <td>US</td>\n",
              "      <td>1442</td>\n",
              "      <td>LAX</td>\n",
              "      <td>PHL</td>\n",
              "      <td>5</td>\n",
              "      <td>1439</td>\n",
              "      <td>301</td>\n",
              "      <td>1</td>\n",
              "      <td>0.0</td>\n",
              "      <td>0.0</td>\n",
              "      <td>...</td>\n",
              "      <td>0.0</td>\n",
              "      <td>0.0</td>\n",
              "      <td>0.0</td>\n",
              "      <td>0.0</td>\n",
              "      <td>0.0</td>\n",
              "      <td>0.0</td>\n",
              "      <td>0.0</td>\n",
              "      <td>1.0</td>\n",
              "      <td>0.0</td>\n",
              "      <td>0.0</td>\n",
              "    </tr>\n",
              "  </tbody>\n",
              "</table>\n",
              "<p>539383 rows × 135 columns</p>\n",
              "</div>\n",
              "      <button class=\"colab-df-convert\" onclick=\"convertToInteractive('df-e2a7120a-2223-4e9c-8752-a81c3ced83ab')\"\n",
              "              title=\"Convert this dataframe to an interactive table.\"\n",
              "              style=\"display:none;\">\n",
              "        \n",
              "  <svg xmlns=\"http://www.w3.org/2000/svg\" height=\"24px\"viewBox=\"0 0 24 24\"\n",
              "       width=\"24px\">\n",
              "    <path d=\"M0 0h24v24H0V0z\" fill=\"none\"/>\n",
              "    <path d=\"M18.56 5.44l.94 2.06.94-2.06 2.06-.94-2.06-.94-.94-2.06-.94 2.06-2.06.94zm-11 1L8.5 8.5l.94-2.06 2.06-.94-2.06-.94L8.5 2.5l-.94 2.06-2.06.94zm10 10l.94 2.06.94-2.06 2.06-.94-2.06-.94-.94-2.06-.94 2.06-2.06.94z\"/><path d=\"M17.41 7.96l-1.37-1.37c-.4-.4-.92-.59-1.43-.59-.52 0-1.04.2-1.43.59L10.3 9.45l-7.72 7.72c-.78.78-.78 2.05 0 2.83L4 21.41c.39.39.9.59 1.41.59.51 0 1.02-.2 1.41-.59l7.78-7.78 2.81-2.81c.8-.78.8-2.07 0-2.86zM5.41 20L4 18.59l7.72-7.72 1.47 1.35L5.41 20z\"/>\n",
              "  </svg>\n",
              "      </button>\n",
              "      \n",
              "  <style>\n",
              "    .colab-df-container {\n",
              "      display:flex;\n",
              "      flex-wrap:wrap;\n",
              "      gap: 12px;\n",
              "    }\n",
              "\n",
              "    .colab-df-convert {\n",
              "      background-color: #E8F0FE;\n",
              "      border: none;\n",
              "      border-radius: 50%;\n",
              "      cursor: pointer;\n",
              "      display: none;\n",
              "      fill: #1967D2;\n",
              "      height: 32px;\n",
              "      padding: 0 0 0 0;\n",
              "      width: 32px;\n",
              "    }\n",
              "\n",
              "    .colab-df-convert:hover {\n",
              "      background-color: #E2EBFA;\n",
              "      box-shadow: 0px 1px 2px rgba(60, 64, 67, 0.3), 0px 1px 3px 1px rgba(60, 64, 67, 0.15);\n",
              "      fill: #174EA6;\n",
              "    }\n",
              "\n",
              "    [theme=dark] .colab-df-convert {\n",
              "      background-color: #3B4455;\n",
              "      fill: #D2E3FC;\n",
              "    }\n",
              "\n",
              "    [theme=dark] .colab-df-convert:hover {\n",
              "      background-color: #434B5C;\n",
              "      box-shadow: 0px 1px 3px 1px rgba(0, 0, 0, 0.15);\n",
              "      filter: drop-shadow(0px 1px 2px rgba(0, 0, 0, 0.3));\n",
              "      fill: #FFFFFF;\n",
              "    }\n",
              "  </style>\n",
              "\n",
              "      <script>\n",
              "        const buttonEl =\n",
              "          document.querySelector('#df-e2a7120a-2223-4e9c-8752-a81c3ced83ab button.colab-df-convert');\n",
              "        buttonEl.style.display =\n",
              "          google.colab.kernel.accessAllowed ? 'block' : 'none';\n",
              "\n",
              "        async function convertToInteractive(key) {\n",
              "          const element = document.querySelector('#df-e2a7120a-2223-4e9c-8752-a81c3ced83ab');\n",
              "          const dataTable =\n",
              "            await google.colab.kernel.invokeFunction('convertToInteractive',\n",
              "                                                     [key], {});\n",
              "          if (!dataTable) return;\n",
              "\n",
              "          const docLinkHtml = 'Like what you see? Visit the ' +\n",
              "            '<a target=\"_blank\" href=https://colab.research.google.com/notebooks/data_table.ipynb>data table notebook</a>'\n",
              "            + ' to learn more about interactive tables.';\n",
              "          element.innerHTML = '';\n",
              "          dataTable['output_type'] = 'display_data';\n",
              "          await google.colab.output.renderOutput(dataTable, element);\n",
              "          const docLink = document.createElement('div');\n",
              "          docLink.innerHTML = docLinkHtml;\n",
              "          element.appendChild(docLink);\n",
              "        }\n",
              "      </script>\n",
              "    </div>\n",
              "  </div>\n",
              "  "
            ]
          },
          "metadata": {},
          "execution_count": 14
        }
      ]
    },
    {
      "cell_type": "code",
      "source": [
        "df_onlyvarnum = df_allvariables.drop(columns=['AirportFrom','Airline','AirportTo','DayOfWeek','Flight'],axis=1)\n",
        "df_onlyvarnum"
      ],
      "metadata": {
        "colab": {
          "base_uri": "https://localhost:8080/",
          "height": 488
        },
        "id": "FayvBDR6jaux",
        "outputId": "b7e5534a-d62c-4b12-c2a1-0d73b5475147"
      },
      "execution_count": null,
      "outputs": [
        {
          "output_type": "execute_result",
          "data": {
            "text/plain": [
              "        Time  Length  Delay  AirportFrom_ABQ  AirportFrom_ATL  \\\n",
              "0         15     205      1              0.0              0.0   \n",
              "1         15     222      1              0.0              0.0   \n",
              "2         20     165      1              0.0              0.0   \n",
              "3         20     195      1              0.0              0.0   \n",
              "4         30     202      0              0.0              0.0   \n",
              "...      ...     ...    ...              ...              ...   \n",
              "539378  1439     326      0              0.0              0.0   \n",
              "539379  1439     305      0              0.0              0.0   \n",
              "539380  1439     255      0              0.0              0.0   \n",
              "539381  1439     313      1              0.0              0.0   \n",
              "539382  1439     301      1              0.0              0.0   \n",
              "\n",
              "        AirportFrom_AUS  AirportFrom_BNA  AirportFrom_BOS  AirportFrom_BWI  \\\n",
              "0                   0.0              0.0              0.0              0.0   \n",
              "1                   0.0              0.0              0.0              0.0   \n",
              "2                   0.0              0.0              0.0              0.0   \n",
              "3                   0.0              0.0              0.0              0.0   \n",
              "4                   0.0              0.0              0.0              0.0   \n",
              "...                 ...              ...              ...              ...   \n",
              "539378              0.0              0.0              0.0              0.0   \n",
              "539379              0.0              0.0              0.0              0.0   \n",
              "539380              0.0              0.0              0.0              0.0   \n",
              "539381              0.0              0.0              0.0              0.0   \n",
              "539382              0.0              0.0              0.0              0.0   \n",
              "\n",
              "        AirportFrom_CLE  ...  AirportTo_STL  AirportTo_TPA  AirportTo_others  \\\n",
              "0                   0.0  ...            0.0            0.0               0.0   \n",
              "1                   0.0  ...            0.0            0.0               0.0   \n",
              "2                   0.0  ...            0.0            0.0               0.0   \n",
              "3                   0.0  ...            0.0            0.0               0.0   \n",
              "4                   0.0  ...            0.0            0.0               0.0   \n",
              "...                 ...  ...            ...            ...               ...   \n",
              "539378              0.0  ...            0.0            0.0               0.0   \n",
              "539379              0.0  ...            0.0            0.0               0.0   \n",
              "539380              0.0  ...            0.0            0.0               0.0   \n",
              "539381              0.0  ...            0.0            0.0               0.0   \n",
              "539382              0.0  ...            0.0            0.0               0.0   \n",
              "\n",
              "        DayOfWeek_1  DayOfWeek_2  DayOfWeek_3  DayOfWeek_4  DayOfWeek_5  \\\n",
              "0               0.0          0.0          1.0          0.0          0.0   \n",
              "1               0.0          0.0          1.0          0.0          0.0   \n",
              "2               0.0          0.0          1.0          0.0          0.0   \n",
              "3               0.0          0.0          1.0          0.0          0.0   \n",
              "4               0.0          0.0          1.0          0.0          0.0   \n",
              "...             ...          ...          ...          ...          ...   \n",
              "539378          0.0          0.0          0.0          0.0          1.0   \n",
              "539379          0.0          0.0          0.0          0.0          1.0   \n",
              "539380          0.0          0.0          0.0          0.0          1.0   \n",
              "539381          0.0          0.0          0.0          0.0          1.0   \n",
              "539382          0.0          0.0          0.0          0.0          1.0   \n",
              "\n",
              "        DayOfWeek_6  DayOfWeek_7  \n",
              "0               0.0          0.0  \n",
              "1               0.0          0.0  \n",
              "2               0.0          0.0  \n",
              "3               0.0          0.0  \n",
              "4               0.0          0.0  \n",
              "...             ...          ...  \n",
              "539378          0.0          0.0  \n",
              "539379          0.0          0.0  \n",
              "539380          0.0          0.0  \n",
              "539381          0.0          0.0  \n",
              "539382          0.0          0.0  \n",
              "\n",
              "[539383 rows x 130 columns]"
            ],
            "text/html": [
              "\n",
              "  <div id=\"df-c80e0fcb-7680-4de0-a38c-771d68139fe4\">\n",
              "    <div class=\"colab-df-container\">\n",
              "      <div>\n",
              "<style scoped>\n",
              "    .dataframe tbody tr th:only-of-type {\n",
              "        vertical-align: middle;\n",
              "    }\n",
              "\n",
              "    .dataframe tbody tr th {\n",
              "        vertical-align: top;\n",
              "    }\n",
              "\n",
              "    .dataframe thead th {\n",
              "        text-align: right;\n",
              "    }\n",
              "</style>\n",
              "<table border=\"1\" class=\"dataframe\">\n",
              "  <thead>\n",
              "    <tr style=\"text-align: right;\">\n",
              "      <th></th>\n",
              "      <th>Time</th>\n",
              "      <th>Length</th>\n",
              "      <th>Delay</th>\n",
              "      <th>AirportFrom_ABQ</th>\n",
              "      <th>AirportFrom_ATL</th>\n",
              "      <th>AirportFrom_AUS</th>\n",
              "      <th>AirportFrom_BNA</th>\n",
              "      <th>AirportFrom_BOS</th>\n",
              "      <th>AirportFrom_BWI</th>\n",
              "      <th>AirportFrom_CLE</th>\n",
              "      <th>...</th>\n",
              "      <th>AirportTo_STL</th>\n",
              "      <th>AirportTo_TPA</th>\n",
              "      <th>AirportTo_others</th>\n",
              "      <th>DayOfWeek_1</th>\n",
              "      <th>DayOfWeek_2</th>\n",
              "      <th>DayOfWeek_3</th>\n",
              "      <th>DayOfWeek_4</th>\n",
              "      <th>DayOfWeek_5</th>\n",
              "      <th>DayOfWeek_6</th>\n",
              "      <th>DayOfWeek_7</th>\n",
              "    </tr>\n",
              "  </thead>\n",
              "  <tbody>\n",
              "    <tr>\n",
              "      <th>0</th>\n",
              "      <td>15</td>\n",
              "      <td>205</td>\n",
              "      <td>1</td>\n",
              "      <td>0.0</td>\n",
              "      <td>0.0</td>\n",
              "      <td>0.0</td>\n",
              "      <td>0.0</td>\n",
              "      <td>0.0</td>\n",
              "      <td>0.0</td>\n",
              "      <td>0.0</td>\n",
              "      <td>...</td>\n",
              "      <td>0.0</td>\n",
              "      <td>0.0</td>\n",
              "      <td>0.0</td>\n",
              "      <td>0.0</td>\n",
              "      <td>0.0</td>\n",
              "      <td>1.0</td>\n",
              "      <td>0.0</td>\n",
              "      <td>0.0</td>\n",
              "      <td>0.0</td>\n",
              "      <td>0.0</td>\n",
              "    </tr>\n",
              "    <tr>\n",
              "      <th>1</th>\n",
              "      <td>15</td>\n",
              "      <td>222</td>\n",
              "      <td>1</td>\n",
              "      <td>0.0</td>\n",
              "      <td>0.0</td>\n",
              "      <td>0.0</td>\n",
              "      <td>0.0</td>\n",
              "      <td>0.0</td>\n",
              "      <td>0.0</td>\n",
              "      <td>0.0</td>\n",
              "      <td>...</td>\n",
              "      <td>0.0</td>\n",
              "      <td>0.0</td>\n",
              "      <td>0.0</td>\n",
              "      <td>0.0</td>\n",
              "      <td>0.0</td>\n",
              "      <td>1.0</td>\n",
              "      <td>0.0</td>\n",
              "      <td>0.0</td>\n",
              "      <td>0.0</td>\n",
              "      <td>0.0</td>\n",
              "    </tr>\n",
              "    <tr>\n",
              "      <th>2</th>\n",
              "      <td>20</td>\n",
              "      <td>165</td>\n",
              "      <td>1</td>\n",
              "      <td>0.0</td>\n",
              "      <td>0.0</td>\n",
              "      <td>0.0</td>\n",
              "      <td>0.0</td>\n",
              "      <td>0.0</td>\n",
              "      <td>0.0</td>\n",
              "      <td>0.0</td>\n",
              "      <td>...</td>\n",
              "      <td>0.0</td>\n",
              "      <td>0.0</td>\n",
              "      <td>0.0</td>\n",
              "      <td>0.0</td>\n",
              "      <td>0.0</td>\n",
              "      <td>1.0</td>\n",
              "      <td>0.0</td>\n",
              "      <td>0.0</td>\n",
              "      <td>0.0</td>\n",
              "      <td>0.0</td>\n",
              "    </tr>\n",
              "    <tr>\n",
              "      <th>3</th>\n",
              "      <td>20</td>\n",
              "      <td>195</td>\n",
              "      <td>1</td>\n",
              "      <td>0.0</td>\n",
              "      <td>0.0</td>\n",
              "      <td>0.0</td>\n",
              "      <td>0.0</td>\n",
              "      <td>0.0</td>\n",
              "      <td>0.0</td>\n",
              "      <td>0.0</td>\n",
              "      <td>...</td>\n",
              "      <td>0.0</td>\n",
              "      <td>0.0</td>\n",
              "      <td>0.0</td>\n",
              "      <td>0.0</td>\n",
              "      <td>0.0</td>\n",
              "      <td>1.0</td>\n",
              "      <td>0.0</td>\n",
              "      <td>0.0</td>\n",
              "      <td>0.0</td>\n",
              "      <td>0.0</td>\n",
              "    </tr>\n",
              "    <tr>\n",
              "      <th>4</th>\n",
              "      <td>30</td>\n",
              "      <td>202</td>\n",
              "      <td>0</td>\n",
              "      <td>0.0</td>\n",
              "      <td>0.0</td>\n",
              "      <td>0.0</td>\n",
              "      <td>0.0</td>\n",
              "      <td>0.0</td>\n",
              "      <td>0.0</td>\n",
              "      <td>0.0</td>\n",
              "      <td>...</td>\n",
              "      <td>0.0</td>\n",
              "      <td>0.0</td>\n",
              "      <td>0.0</td>\n",
              "      <td>0.0</td>\n",
              "      <td>0.0</td>\n",
              "      <td>1.0</td>\n",
              "      <td>0.0</td>\n",
              "      <td>0.0</td>\n",
              "      <td>0.0</td>\n",
              "      <td>0.0</td>\n",
              "    </tr>\n",
              "    <tr>\n",
              "      <th>...</th>\n",
              "      <td>...</td>\n",
              "      <td>...</td>\n",
              "      <td>...</td>\n",
              "      <td>...</td>\n",
              "      <td>...</td>\n",
              "      <td>...</td>\n",
              "      <td>...</td>\n",
              "      <td>...</td>\n",
              "      <td>...</td>\n",
              "      <td>...</td>\n",
              "      <td>...</td>\n",
              "      <td>...</td>\n",
              "      <td>...</td>\n",
              "      <td>...</td>\n",
              "      <td>...</td>\n",
              "      <td>...</td>\n",
              "      <td>...</td>\n",
              "      <td>...</td>\n",
              "      <td>...</td>\n",
              "      <td>...</td>\n",
              "      <td>...</td>\n",
              "    </tr>\n",
              "    <tr>\n",
              "      <th>539378</th>\n",
              "      <td>1439</td>\n",
              "      <td>326</td>\n",
              "      <td>0</td>\n",
              "      <td>0.0</td>\n",
              "      <td>0.0</td>\n",
              "      <td>0.0</td>\n",
              "      <td>0.0</td>\n",
              "      <td>0.0</td>\n",
              "      <td>0.0</td>\n",
              "      <td>0.0</td>\n",
              "      <td>...</td>\n",
              "      <td>0.0</td>\n",
              "      <td>0.0</td>\n",
              "      <td>0.0</td>\n",
              "      <td>0.0</td>\n",
              "      <td>0.0</td>\n",
              "      <td>0.0</td>\n",
              "      <td>0.0</td>\n",
              "      <td>1.0</td>\n",
              "      <td>0.0</td>\n",
              "      <td>0.0</td>\n",
              "    </tr>\n",
              "    <tr>\n",
              "      <th>539379</th>\n",
              "      <td>1439</td>\n",
              "      <td>305</td>\n",
              "      <td>0</td>\n",
              "      <td>0.0</td>\n",
              "      <td>0.0</td>\n",
              "      <td>0.0</td>\n",
              "      <td>0.0</td>\n",
              "      <td>0.0</td>\n",
              "      <td>0.0</td>\n",
              "      <td>0.0</td>\n",
              "      <td>...</td>\n",
              "      <td>0.0</td>\n",
              "      <td>0.0</td>\n",
              "      <td>0.0</td>\n",
              "      <td>0.0</td>\n",
              "      <td>0.0</td>\n",
              "      <td>0.0</td>\n",
              "      <td>0.0</td>\n",
              "      <td>1.0</td>\n",
              "      <td>0.0</td>\n",
              "      <td>0.0</td>\n",
              "    </tr>\n",
              "    <tr>\n",
              "      <th>539380</th>\n",
              "      <td>1439</td>\n",
              "      <td>255</td>\n",
              "      <td>0</td>\n",
              "      <td>0.0</td>\n",
              "      <td>0.0</td>\n",
              "      <td>0.0</td>\n",
              "      <td>0.0</td>\n",
              "      <td>0.0</td>\n",
              "      <td>0.0</td>\n",
              "      <td>0.0</td>\n",
              "      <td>...</td>\n",
              "      <td>0.0</td>\n",
              "      <td>0.0</td>\n",
              "      <td>0.0</td>\n",
              "      <td>0.0</td>\n",
              "      <td>0.0</td>\n",
              "      <td>0.0</td>\n",
              "      <td>0.0</td>\n",
              "      <td>1.0</td>\n",
              "      <td>0.0</td>\n",
              "      <td>0.0</td>\n",
              "    </tr>\n",
              "    <tr>\n",
              "      <th>539381</th>\n",
              "      <td>1439</td>\n",
              "      <td>313</td>\n",
              "      <td>1</td>\n",
              "      <td>0.0</td>\n",
              "      <td>0.0</td>\n",
              "      <td>0.0</td>\n",
              "      <td>0.0</td>\n",
              "      <td>0.0</td>\n",
              "      <td>0.0</td>\n",
              "      <td>0.0</td>\n",
              "      <td>...</td>\n",
              "      <td>0.0</td>\n",
              "      <td>0.0</td>\n",
              "      <td>0.0</td>\n",
              "      <td>0.0</td>\n",
              "      <td>0.0</td>\n",
              "      <td>0.0</td>\n",
              "      <td>0.0</td>\n",
              "      <td>1.0</td>\n",
              "      <td>0.0</td>\n",
              "      <td>0.0</td>\n",
              "    </tr>\n",
              "    <tr>\n",
              "      <th>539382</th>\n",
              "      <td>1439</td>\n",
              "      <td>301</td>\n",
              "      <td>1</td>\n",
              "      <td>0.0</td>\n",
              "      <td>0.0</td>\n",
              "      <td>0.0</td>\n",
              "      <td>0.0</td>\n",
              "      <td>0.0</td>\n",
              "      <td>0.0</td>\n",
              "      <td>0.0</td>\n",
              "      <td>...</td>\n",
              "      <td>0.0</td>\n",
              "      <td>0.0</td>\n",
              "      <td>0.0</td>\n",
              "      <td>0.0</td>\n",
              "      <td>0.0</td>\n",
              "      <td>0.0</td>\n",
              "      <td>0.0</td>\n",
              "      <td>1.0</td>\n",
              "      <td>0.0</td>\n",
              "      <td>0.0</td>\n",
              "    </tr>\n",
              "  </tbody>\n",
              "</table>\n",
              "<p>539383 rows × 130 columns</p>\n",
              "</div>\n",
              "      <button class=\"colab-df-convert\" onclick=\"convertToInteractive('df-c80e0fcb-7680-4de0-a38c-771d68139fe4')\"\n",
              "              title=\"Convert this dataframe to an interactive table.\"\n",
              "              style=\"display:none;\">\n",
              "        \n",
              "  <svg xmlns=\"http://www.w3.org/2000/svg\" height=\"24px\"viewBox=\"0 0 24 24\"\n",
              "       width=\"24px\">\n",
              "    <path d=\"M0 0h24v24H0V0z\" fill=\"none\"/>\n",
              "    <path d=\"M18.56 5.44l.94 2.06.94-2.06 2.06-.94-2.06-.94-.94-2.06-.94 2.06-2.06.94zm-11 1L8.5 8.5l.94-2.06 2.06-.94-2.06-.94L8.5 2.5l-.94 2.06-2.06.94zm10 10l.94 2.06.94-2.06 2.06-.94-2.06-.94-.94-2.06-.94 2.06-2.06.94z\"/><path d=\"M17.41 7.96l-1.37-1.37c-.4-.4-.92-.59-1.43-.59-.52 0-1.04.2-1.43.59L10.3 9.45l-7.72 7.72c-.78.78-.78 2.05 0 2.83L4 21.41c.39.39.9.59 1.41.59.51 0 1.02-.2 1.41-.59l7.78-7.78 2.81-2.81c.8-.78.8-2.07 0-2.86zM5.41 20L4 18.59l7.72-7.72 1.47 1.35L5.41 20z\"/>\n",
              "  </svg>\n",
              "      </button>\n",
              "      \n",
              "  <style>\n",
              "    .colab-df-container {\n",
              "      display:flex;\n",
              "      flex-wrap:wrap;\n",
              "      gap: 12px;\n",
              "    }\n",
              "\n",
              "    .colab-df-convert {\n",
              "      background-color: #E8F0FE;\n",
              "      border: none;\n",
              "      border-radius: 50%;\n",
              "      cursor: pointer;\n",
              "      display: none;\n",
              "      fill: #1967D2;\n",
              "      height: 32px;\n",
              "      padding: 0 0 0 0;\n",
              "      width: 32px;\n",
              "    }\n",
              "\n",
              "    .colab-df-convert:hover {\n",
              "      background-color: #E2EBFA;\n",
              "      box-shadow: 0px 1px 2px rgba(60, 64, 67, 0.3), 0px 1px 3px 1px rgba(60, 64, 67, 0.15);\n",
              "      fill: #174EA6;\n",
              "    }\n",
              "\n",
              "    [theme=dark] .colab-df-convert {\n",
              "      background-color: #3B4455;\n",
              "      fill: #D2E3FC;\n",
              "    }\n",
              "\n",
              "    [theme=dark] .colab-df-convert:hover {\n",
              "      background-color: #434B5C;\n",
              "      box-shadow: 0px 1px 3px 1px rgba(0, 0, 0, 0.15);\n",
              "      filter: drop-shadow(0px 1px 2px rgba(0, 0, 0, 0.3));\n",
              "      fill: #FFFFFF;\n",
              "    }\n",
              "  </style>\n",
              "\n",
              "      <script>\n",
              "        const buttonEl =\n",
              "          document.querySelector('#df-c80e0fcb-7680-4de0-a38c-771d68139fe4 button.colab-df-convert');\n",
              "        buttonEl.style.display =\n",
              "          google.colab.kernel.accessAllowed ? 'block' : 'none';\n",
              "\n",
              "        async function convertToInteractive(key) {\n",
              "          const element = document.querySelector('#df-c80e0fcb-7680-4de0-a38c-771d68139fe4');\n",
              "          const dataTable =\n",
              "            await google.colab.kernel.invokeFunction('convertToInteractive',\n",
              "                                                     [key], {});\n",
              "          if (!dataTable) return;\n",
              "\n",
              "          const docLinkHtml = 'Like what you see? Visit the ' +\n",
              "            '<a target=\"_blank\" href=https://colab.research.google.com/notebooks/data_table.ipynb>data table notebook</a>'\n",
              "            + ' to learn more about interactive tables.';\n",
              "          element.innerHTML = '';\n",
              "          dataTable['output_type'] = 'display_data';\n",
              "          await google.colab.output.renderOutput(dataTable, element);\n",
              "          const docLink = document.createElement('div');\n",
              "          docLink.innerHTML = docLinkHtml;\n",
              "          element.appendChild(docLink);\n",
              "        }\n",
              "      </script>\n",
              "    </div>\n",
              "  </div>\n",
              "  "
            ]
          },
          "metadata": {},
          "execution_count": 15
        }
      ]
    },
    {
      "cell_type": "code",
      "source": [
        "from sklearn.model_selection import train_test_split\n",
        "from sklearn.ensemble import RandomForestClassifier\n",
        "from sklearn.tree import DecisionTreeClassifier\n",
        "from sklearn.metrics import accuracy_score"
      ],
      "metadata": {
        "id": "Uq9TdXJqwQGp"
      },
      "execution_count": null,
      "outputs": []
    },
    {
      "cell_type": "markdown",
      "source": [
        "Calculamos con todas las variables categoricas convertidas a numero y las numericas."
      ],
      "metadata": {
        "id": "I8rTf2pB2HoK"
      }
    },
    {
      "cell_type": "code",
      "source": [
        "#Separamos en X e y\n",
        "X = df_allvariables.drop(columns=['AirportFrom','Airline','AirportTo','DayOfWeek','Flight','Delay'],axis=1)\n",
        "y = df_allvariables['Delay']"
      ],
      "metadata": {
        "id": "y-K3Z7UeyEc6"
      },
      "execution_count": null,
      "outputs": []
    },
    {
      "cell_type": "code",
      "source": [
        "#Se crea un random forest\n",
        "model = RandomForestClassifier(random_state=11, n_estimators=200,class_weight=\"balanced\", max_features=\"log2\")"
      ],
      "metadata": {
        "id": "SrqRBaqQwssh"
      },
      "execution_count": null,
      "outputs": []
    },
    {
      "cell_type": "code",
      "source": [
        "#Separamos en train y test\n",
        "(X_train, X_test,y_train, y_test) = train_test_split(X,y,stratify=y,test_size=0.30,random_state=11)"
      ],
      "metadata": {
        "id": "vpNkfdg9x6dc"
      },
      "execution_count": null,
      "outputs": []
    },
    {
      "cell_type": "markdown",
      "source": [
        "## Entrenamiento todas las variables"
      ],
      "metadata": {
        "id": "E9DWpAxFyxb-"
      }
    },
    {
      "cell_type": "code",
      "source": [
        "model.fit(X_train, y_train)"
      ],
      "metadata": {
        "id": "JnAjP8NFywHO"
      },
      "execution_count": null,
      "outputs": []
    },
    {
      "cell_type": "code",
      "source": [
        "y_test_pred = model.predict(X_test)"
      ],
      "metadata": {
        "id": "SrsC54fky5Zn",
        "colab": {
          "base_uri": "https://localhost:8080/",
          "height": 341
        },
        "outputId": "487412dc-be2c-4014-9c5e-c72ca8885465"
      },
      "execution_count": null,
      "outputs": [
        {
          "output_type": "stream",
          "name": "stderr",
          "text": [
            "/usr/local/lib/python3.7/dist-packages/sklearn/ensemble/_forest.py:871: RuntimeWarning: invalid value encountered in true_divide\n",
            "  proba /= len(self.estimators_)\n"
          ]
        },
        {
          "output_type": "error",
          "ename": "AttributeError",
          "evalue": "ignored",
          "traceback": [
            "\u001b[0;31m---------------------------------------------------------------------------\u001b[0m",
            "\u001b[0;31mAttributeError\u001b[0m                            Traceback (most recent call last)",
            "\u001b[0;32m<ipython-input-21-e847b0454084>\u001b[0m in \u001b[0;36m<module>\u001b[0;34m\u001b[0m\n\u001b[0;32m----> 1\u001b[0;31m \u001b[0my_test_pred\u001b[0m \u001b[0;34m=\u001b[0m \u001b[0mmodel\u001b[0m\u001b[0;34m.\u001b[0m\u001b[0mpredict\u001b[0m\u001b[0;34m(\u001b[0m\u001b[0mX_test\u001b[0m\u001b[0;34m)\u001b[0m\u001b[0;34m\u001b[0m\u001b[0;34m\u001b[0m\u001b[0m\n\u001b[0m",
            "\u001b[0;32m/usr/local/lib/python3.7/dist-packages/sklearn/ensemble/_forest.py\u001b[0m in \u001b[0;36mpredict\u001b[0;34m(self, X)\u001b[0m\n\u001b[1;32m    809\u001b[0m \u001b[0;34m\u001b[0m\u001b[0m\n\u001b[1;32m    810\u001b[0m         \u001b[0;32mif\u001b[0m \u001b[0mself\u001b[0m\u001b[0;34m.\u001b[0m\u001b[0mn_outputs_\u001b[0m \u001b[0;34m==\u001b[0m \u001b[0;36m1\u001b[0m\u001b[0;34m:\u001b[0m\u001b[0;34m\u001b[0m\u001b[0;34m\u001b[0m\u001b[0m\n\u001b[0;32m--> 811\u001b[0;31m             \u001b[0;32mreturn\u001b[0m \u001b[0mself\u001b[0m\u001b[0;34m.\u001b[0m\u001b[0mclasses_\u001b[0m\u001b[0;34m.\u001b[0m\u001b[0mtake\u001b[0m\u001b[0;34m(\u001b[0m\u001b[0mnp\u001b[0m\u001b[0;34m.\u001b[0m\u001b[0margmax\u001b[0m\u001b[0;34m(\u001b[0m\u001b[0mproba\u001b[0m\u001b[0;34m,\u001b[0m \u001b[0maxis\u001b[0m\u001b[0;34m=\u001b[0m\u001b[0;36m1\u001b[0m\u001b[0;34m)\u001b[0m\u001b[0;34m,\u001b[0m \u001b[0maxis\u001b[0m\u001b[0;34m=\u001b[0m\u001b[0;36m0\u001b[0m\u001b[0;34m)\u001b[0m\u001b[0;34m\u001b[0m\u001b[0;34m\u001b[0m\u001b[0m\n\u001b[0m\u001b[1;32m    812\u001b[0m \u001b[0;34m\u001b[0m\u001b[0m\n\u001b[1;32m    813\u001b[0m         \u001b[0;32melse\u001b[0m\u001b[0;34m:\u001b[0m\u001b[0;34m\u001b[0m\u001b[0;34m\u001b[0m\u001b[0m\n",
            "\u001b[0;31mAttributeError\u001b[0m: 'list' object has no attribute 'take'"
          ]
        }
      ]
    },
    {
      "cell_type": "code",
      "source": [
        "#Calculo el accuracy en Test\n",
        "test_accuracy = accuracy_score(y_test, y_test_pred)\n",
        "\n",
        "print('% de aciertos sobre el set de evaluación:',test_accuracy)"
      ],
      "metadata": {
        "id": "KcQoMXi2y7tq"
      },
      "execution_count": null,
      "outputs": []
    },
    {
      "cell_type": "code",
      "source": [
        "# verificar características importantes\n",
        "feature_importances_df = pd.DataFrame(\n",
        "    {\"feature\": list(X.columns), \"importance\": model.feature_importances_}\n",
        ").sort_values(\"importance\", ascending=False)\n",
        "\n",
        "# Mostrar\n",
        "feature_importances_df"
      ],
      "metadata": {
        "id": "wV4jK-U54qEM"
      },
      "execution_count": null,
      "outputs": []
    },
    {
      "cell_type": "markdown",
      "source": [
        "## Test 2 - Solo las variables numericas."
      ],
      "metadata": {
        "id": "W6jChyk32Wc0"
      }
    },
    {
      "cell_type": "code",
      "source": [
        "df"
      ],
      "metadata": {
        "id": "ezkW7eCo2_W_"
      },
      "execution_count": null,
      "outputs": []
    },
    {
      "cell_type": "code",
      "source": [
        "X2 = df.drop(columns=['AirportFrom','Airline','AirportTo','DayOfWeek','Flight','Delay'],axis=1)\n",
        "y2 = df['Delay']"
      ],
      "metadata": {
        "id": "Ba3jIQgM2c0i"
      },
      "execution_count": null,
      "outputs": []
    },
    {
      "cell_type": "code",
      "source": [
        "model2 = RandomForestClassifier(random_state=11, n_estimators=200,class_weight=\"balanced\", max_features=\"log2\")"
      ],
      "metadata": {
        "id": "rNEUA0js3mL4"
      },
      "execution_count": null,
      "outputs": []
    },
    {
      "cell_type": "code",
      "source": [
        "#Separamos en train y test\n",
        "(X_train2, X_test2,y_train2, y_test2) = train_test_split(X2,y2,stratify=y2,test_size=0.30,random_state=11)"
      ],
      "metadata": {
        "id": "Q2Lb2l2m3pD6"
      },
      "execution_count": null,
      "outputs": []
    },
    {
      "cell_type": "markdown",
      "source": [
        "Entrenamiento"
      ],
      "metadata": {
        "id": "gG1H6nuq3tg0"
      }
    },
    {
      "cell_type": "code",
      "source": [
        "model2.fit(X_train2, y_train2)"
      ],
      "metadata": {
        "colab": {
          "base_uri": "https://localhost:8080/"
        },
        "id": "dZuu5vJG3u_T",
        "outputId": "84d3f9c0-6765-4b50-d58b-d3b82966f72e"
      },
      "execution_count": null,
      "outputs": [
        {
          "output_type": "execute_result",
          "data": {
            "text/plain": [
              "RandomForestClassifier(class_weight='balanced', max_features='log2',\n",
              "                       n_estimators=200, random_state=11)"
            ]
          },
          "metadata": {},
          "execution_count": 26
        }
      ]
    },
    {
      "cell_type": "code",
      "source": [
        "y_test_pred2 = model2.predict(X_test2)"
      ],
      "metadata": {
        "id": "Ri_x_vVQ3zIi"
      },
      "execution_count": null,
      "outputs": []
    },
    {
      "cell_type": "code",
      "source": [
        "# verificar características importantes\n",
        "feature_importances_df2 = pd.DataFrame(\n",
        "    {\"feature\": list(X2.columns), \"importance\": model2.feature_importances_}\n",
        ").sort_values(\"importance\", ascending=False)\n",
        "\n",
        "# Mostrar\n",
        "feature_importances_df2"
      ],
      "metadata": {
        "colab": {
          "base_uri": "https://localhost:8080/",
          "height": 112
        },
        "id": "Y3MXEujK70Ov",
        "outputId": "cadc5d21-9ef2-4bd8-fbe5-cdc95ba59b77"
      },
      "execution_count": null,
      "outputs": [
        {
          "output_type": "execute_result",
          "data": {
            "text/plain": [
              "  feature  importance\n",
              "0    Time    0.587211\n",
              "1  Length    0.412789"
            ],
            "text/html": [
              "\n",
              "  <div id=\"df-c4049e71-a537-4841-ba9d-b0daefd60e4c\">\n",
              "    <div class=\"colab-df-container\">\n",
              "      <div>\n",
              "<style scoped>\n",
              "    .dataframe tbody tr th:only-of-type {\n",
              "        vertical-align: middle;\n",
              "    }\n",
              "\n",
              "    .dataframe tbody tr th {\n",
              "        vertical-align: top;\n",
              "    }\n",
              "\n",
              "    .dataframe thead th {\n",
              "        text-align: right;\n",
              "    }\n",
              "</style>\n",
              "<table border=\"1\" class=\"dataframe\">\n",
              "  <thead>\n",
              "    <tr style=\"text-align: right;\">\n",
              "      <th></th>\n",
              "      <th>feature</th>\n",
              "      <th>importance</th>\n",
              "    </tr>\n",
              "  </thead>\n",
              "  <tbody>\n",
              "    <tr>\n",
              "      <th>0</th>\n",
              "      <td>Time</td>\n",
              "      <td>0.587211</td>\n",
              "    </tr>\n",
              "    <tr>\n",
              "      <th>1</th>\n",
              "      <td>Length</td>\n",
              "      <td>0.412789</td>\n",
              "    </tr>\n",
              "  </tbody>\n",
              "</table>\n",
              "</div>\n",
              "      <button class=\"colab-df-convert\" onclick=\"convertToInteractive('df-c4049e71-a537-4841-ba9d-b0daefd60e4c')\"\n",
              "              title=\"Convert this dataframe to an interactive table.\"\n",
              "              style=\"display:none;\">\n",
              "        \n",
              "  <svg xmlns=\"http://www.w3.org/2000/svg\" height=\"24px\"viewBox=\"0 0 24 24\"\n",
              "       width=\"24px\">\n",
              "    <path d=\"M0 0h24v24H0V0z\" fill=\"none\"/>\n",
              "    <path d=\"M18.56 5.44l.94 2.06.94-2.06 2.06-.94-2.06-.94-.94-2.06-.94 2.06-2.06.94zm-11 1L8.5 8.5l.94-2.06 2.06-.94-2.06-.94L8.5 2.5l-.94 2.06-2.06.94zm10 10l.94 2.06.94-2.06 2.06-.94-2.06-.94-.94-2.06-.94 2.06-2.06.94z\"/><path d=\"M17.41 7.96l-1.37-1.37c-.4-.4-.92-.59-1.43-.59-.52 0-1.04.2-1.43.59L10.3 9.45l-7.72 7.72c-.78.78-.78 2.05 0 2.83L4 21.41c.39.39.9.59 1.41.59.51 0 1.02-.2 1.41-.59l7.78-7.78 2.81-2.81c.8-.78.8-2.07 0-2.86zM5.41 20L4 18.59l7.72-7.72 1.47 1.35L5.41 20z\"/>\n",
              "  </svg>\n",
              "      </button>\n",
              "      \n",
              "  <style>\n",
              "    .colab-df-container {\n",
              "      display:flex;\n",
              "      flex-wrap:wrap;\n",
              "      gap: 12px;\n",
              "    }\n",
              "\n",
              "    .colab-df-convert {\n",
              "      background-color: #E8F0FE;\n",
              "      border: none;\n",
              "      border-radius: 50%;\n",
              "      cursor: pointer;\n",
              "      display: none;\n",
              "      fill: #1967D2;\n",
              "      height: 32px;\n",
              "      padding: 0 0 0 0;\n",
              "      width: 32px;\n",
              "    }\n",
              "\n",
              "    .colab-df-convert:hover {\n",
              "      background-color: #E2EBFA;\n",
              "      box-shadow: 0px 1px 2px rgba(60, 64, 67, 0.3), 0px 1px 3px 1px rgba(60, 64, 67, 0.15);\n",
              "      fill: #174EA6;\n",
              "    }\n",
              "\n",
              "    [theme=dark] .colab-df-convert {\n",
              "      background-color: #3B4455;\n",
              "      fill: #D2E3FC;\n",
              "    }\n",
              "\n",
              "    [theme=dark] .colab-df-convert:hover {\n",
              "      background-color: #434B5C;\n",
              "      box-shadow: 0px 1px 3px 1px rgba(0, 0, 0, 0.15);\n",
              "      filter: drop-shadow(0px 1px 2px rgba(0, 0, 0, 0.3));\n",
              "      fill: #FFFFFF;\n",
              "    }\n",
              "  </style>\n",
              "\n",
              "      <script>\n",
              "        const buttonEl =\n",
              "          document.querySelector('#df-c4049e71-a537-4841-ba9d-b0daefd60e4c button.colab-df-convert');\n",
              "        buttonEl.style.display =\n",
              "          google.colab.kernel.accessAllowed ? 'block' : 'none';\n",
              "\n",
              "        async function convertToInteractive(key) {\n",
              "          const element = document.querySelector('#df-c4049e71-a537-4841-ba9d-b0daefd60e4c');\n",
              "          const dataTable =\n",
              "            await google.colab.kernel.invokeFunction('convertToInteractive',\n",
              "                                                     [key], {});\n",
              "          if (!dataTable) return;\n",
              "\n",
              "          const docLinkHtml = 'Like what you see? Visit the ' +\n",
              "            '<a target=\"_blank\" href=https://colab.research.google.com/notebooks/data_table.ipynb>data table notebook</a>'\n",
              "            + ' to learn more about interactive tables.';\n",
              "          element.innerHTML = '';\n",
              "          dataTable['output_type'] = 'display_data';\n",
              "          await google.colab.output.renderOutput(dataTable, element);\n",
              "          const docLink = document.createElement('div');\n",
              "          docLink.innerHTML = docLinkHtml;\n",
              "          element.appendChild(docLink);\n",
              "        }\n",
              "      </script>\n",
              "    </div>\n",
              "  </div>\n",
              "  "
            ]
          },
          "metadata": {},
          "execution_count": 29
        }
      ]
    },
    {
      "cell_type": "code",
      "source": [
        "# visualizarcaracterísticas importantes\n",
        "\n",
        "# Crear un diagrama de barras\n",
        "sns.barplot(x=feature_importances_df2['feature'], y=feature_importances_df2['importance'])\n",
        "# agregar estiquestas\n",
        "\n",
        "plt.xlabel(\"Feature Importance Score\")\n",
        "plt.ylabel(\"Features\")\n",
        "plt.title(\"Visualizing Important Features\")\n",
        "plt.xticks(\n",
        "    rotation=45, horizontalalignment=\"right\", fontweight=\"light\", fontsize=\"x-large\"\n",
        ")\n",
        "plt.show()"
      ],
      "metadata": {
        "colab": {
          "base_uri": "https://localhost:8080/",
          "height": 330
        },
        "id": "5IaCMOke8JIP",
        "outputId": "541a9cab-35ff-4b27-b0b3-6ee45c4e5345"
      },
      "execution_count": null,
      "outputs": [
        {
          "output_type": "display_data",
          "data": {
            "text/plain": [
              "<Figure size 432x288 with 1 Axes>"
            ],
            "image/png": "[encoded data removed]"
          },
          "metadata": {
            "needs_background": "light"
          }
        }
      ]
    },
    {
      "cell_type": "markdown",
      "source": [
        "# Evaluar los indicadores de desempeño predictivo del modelo"
      ],
      "metadata": {
        "id": "TKwPZSeonF6G"
      }
    },
    {
      "cell_type": "markdown",
      "source": [
        "![Imagen1.png](data:image/png;base64,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)"
      ],
      "metadata": {
        "id": "1AJZrBqjnO78"
      }
    },
    {
      "cell_type": "markdown",
      "source": [
        "1. Calcular la métrica Accuracy."
      ],
      "metadata": {
        "id": "5ddB5lKZnjPn"
      }
    },
    {
      "cell_type": "code",
      "source": [
        "from sklearn.metrics import accuracy_score\n",
        "\n",
        "#Calculo el accuracy en Test\n",
        "test_accuracy = accuracy_score(y_test2, y_test_pred2)\n",
        "\n",
        "print('% de aciertos sobre el set de evaluación:',test_accuracy)"
      ],
      "metadata": {
        "colab": {
          "base_uri": "https://localhost:8080/"
        },
        "id": "7tAs0cY6nFxI",
        "outputId": "93edf90b-c588-4435-e5d0-f50660230d83"
      },
      "execution_count": null,
      "outputs": [
        {
          "output_type": "stream",
          "name": "stdout",
          "text": [
            "% de aciertos sobre el set de evaluación: 0.6267960325062572\n"
          ]
        }
      ]
    },
    {
      "cell_type": "markdown",
      "source": [
        "2. Crear la Matriz de Confusión"
      ],
      "metadata": {
        "id": "9Kf_WaUvn-s2"
      }
    },
    {
      "cell_type": "code",
      "source": [
        "#Matriz de Confusión\n",
        "import matplotlib.pyplot as plt\n",
        "from sklearn.metrics import confusion_matrix\n",
        "from sklearn.metrics import plot_confusion_matrix\n",
        "\n",
        "#Matriz de Confusión\n",
        "print(confusion_matrix(y_test2, y_test_pred2))\n",
        "\n",
        "#Ploteamos la Matriz\n",
        "plot_confusion_matrix(model2, X_test2, y_test2)\n",
        "plt.show()"
      ],
      "metadata": {
        "colab": {
          "base_uri": "https://localhost:8080/",
          "height": 368
        },
        "id": "KZ0XkJYMoApk",
        "outputId": "8aaa19a9-e059-473d-8909-88cfb9d386a8"
      },
      "execution_count": null,
      "outputs": [
        {
          "output_type": "stream",
          "name": "stdout",
          "text": [
            "[[56934 32802]\n",
            " [27588 44491]]\n"
          ]
        },
        {
          "output_type": "stream",
          "name": "stderr",
          "text": [
            "/usr/local/lib/python3.7/dist-packages/sklearn/utils/deprecation.py:87: FutureWarning: Function plot_confusion_matrix is deprecated; Function `plot_confusion_matrix` is deprecated in 1.0 and will be removed in 1.2. Use one of the class methods: ConfusionMatrixDisplay.from_predictions or ConfusionMatrixDisplay.from_estimator.\n",
            "  warnings.warn(msg, category=FutureWarning)\n"
          ]
        },
        {
          "output_type": "display_data",
          "data": {
            "text/plain": [
              "<Figure size 432x288 with 2 Axes>"
            ],
            "image/png": "[encoded data removed]"
          },
          "metadata": {
            "needs_background": "light"
          }
        }
      ]
    },
    {
      "cell_type": "markdown",
      "source": [
        "3. Calcular la métrica Precision"
      ],
      "metadata": {
        "id": "YW03KGQXoyUh"
      }
    },
    {
      "cell_type": "code",
      "source": [
        "from sklearn.metrics import precision_score\n",
        "\n",
        "# Precision!\n",
        "print(f\"Precision Score of the classifier is: {precision_score(y_test2, y_test_pred2)}\")"
      ],
      "metadata": {
        "colab": {
          "base_uri": "https://localhost:8080/"
        },
        "id": "XAoWH2waowcd",
        "outputId": "5bd0c292-de1d-4d51-f6b0-07cd74877987"
      },
      "execution_count": null,
      "outputs": [
        {
          "output_type": "stream",
          "name": "stdout",
          "text": [
            "Precision Score of the classifier is: 0.5756148680993104\n"
          ]
        }
      ]
    },
    {
      "cell_type": "markdown",
      "source": [
        "4. Calcular la métrica Recall"
      ],
      "metadata": {
        "id": "8qzejz1Oo9VU"
      }
    },
    {
      "cell_type": "code",
      "source": [
        "from sklearn.metrics import recall_score\n",
        "\n",
        "# Recall\n",
        "print(f\"Recall Score of the classifier is: {recall_score(y_test2, y_test_pred2)}\")"
      ],
      "metadata": {
        "colab": {
          "base_uri": "https://localhost:8080/"
        },
        "id": "2GmfQfQno_UK",
        "outputId": "4f734d2f-1335-429d-a88a-2861858a9a4a"
      },
      "execution_count": null,
      "outputs": [
        {
          "output_type": "stream",
          "name": "stdout",
          "text": [
            "Recall Score of the classifier is: 0.617253291527352\n"
          ]
        }
      ]
    },
    {
      "cell_type": "markdown",
      "source": [
        "5. Calcular la métrica F1 score"
      ],
      "metadata": {
        "id": "tX2Q8sX_pOh-"
      }
    },
    {
      "cell_type": "code",
      "source": [
        "from sklearn.metrics import f1_score\n",
        "\n",
        "# Calculo del F1 score\n",
        "print(f\"F1 Score of the classifier is: {f1_score(y_test2, y_test_pred2)}\")"
      ],
      "metadata": {
        "colab": {
          "base_uri": "https://localhost:8080/"
        },
        "id": "c-y6IQ02pN5q",
        "outputId": "32e11724-8cb2-43b0-a7af-7c88a1b31929"
      },
      "execution_count": null,
      "outputs": [
        {
          "output_type": "stream",
          "name": "stdout",
          "text": [
            "F1 Score of the classifier is: 0.595707361486758\n"
          ]
        }
      ]
    },
    {
      "cell_type": "markdown",
      "source": [
        "6. Calcular y plotear la Curva ROC"
      ],
      "metadata": {
        "id": "wP21nuPZpUSr"
      }
    },
    {
      "cell_type": "code",
      "source": [
        "#Curva ROC\n",
        "from sklearn.metrics import roc_curve, auc\n",
        "\n",
        "class_probabilities = model2.predict_proba(X_test2)\n",
        "preds = class_probabilities[:, 1]\n",
        "\n",
        "fpr, tpr, threshold = roc_curve(y_test2, preds)\n",
        "roc_auc = auc(fpr, tpr)\n",
        "\n",
        "# AUC\n",
        "print(f\"AUC for our classifier is: {roc_auc}\")\n",
        "\n",
        "# Gráfica de la Curva ROC\n",
        "plt.title('Receiver Operating Characteristic')\n",
        "plt.plot(fpr, tpr, 'b', label = 'AUC = %0.2f' % roc_auc)\n",
        "plt.legend(loc = 'lower right')\n",
        "plt.plot([0, 1], [0, 1],'r--')\n",
        "plt.xlim([0, 1])\n",
        "plt.ylim([0, 1])\n",
        "plt.ylabel('True Positive Rate')\n",
        "plt.xlabel('False Positive Rate')\n",
        "plt.show()"
      ],
      "metadata": {
        "colab": {
          "base_uri": "https://localhost:8080/",
          "height": 312
        },
        "id": "TbcgTTGHpV97",
        "outputId": "ade81036-7ce0-4314-fc40-2db129bcd697"
      },
      "execution_count": null,
      "outputs": [
        {
          "output_type": "stream",
          "name": "stdout",
          "text": [
            "AUC for our classifier is: 0.6727535598461873\n"
          ]
        },
        {
          "output_type": "display_data",
          "data": {
            "text/plain": [
              "<Figure size 432x288 with 1 Axes>"
            ],
            "image/png": "[encoded data removed]"
          },
          "metadata": {
            "needs_background": "light"
          }
        }
      ]
    },
    {
      "cell_type": "markdown",
      "source": [
        "# **Conclusion**"
      ],
      "metadata": {
        "id": "Szk2aoX4qb3W"
      }
    },
    {
      "cell_type": "markdown",
      "source": [
        "Las variables numéricas no tienen un alto impacto en la determinación de que si un vuelo fue demorado o no. Para nosotros las variables como que aerolínea viajo, o el aeropuerto de origen o destino es son importantes. Se intentó subclasificarlo, pero cuando se realiza la composición binaria de estas medidas, se cae en el overfiting."
      ],
      "metadata": {
        "id": "DhxC2jEipx2k"
      }
    }
  ]
}