{
  "cells": [
    {
      "cell_type": "markdown",
      "metadata": {
        "id": "view-in-github",
        "colab_type": "text"
      },
      "source": [
        "<a href=\"https://colab.research.google.com/github/nick1287/Airlines/blob/main/Categorizacion_Modelo_Culpabilidad.ipynb\" target=\"_parent\"><img src=\"https://colab.research.google.com/assets/colab-badge.svg\" alt=\"Open In Colab\"/></a>"
      ]
    },
    {
      "cell_type": "markdown",
      "metadata": {
        "id": "iKENeWEEwKIb"
      },
      "source": [
        "\n",
        "BERT en un problema de clasificación\n",
        "===================================="
      ]
    },
    {
      "cell_type": "markdown",
      "source": [
        "# Base de datos SQL"
      ],
      "metadata": {
        "id": "n7ijwrlhesfm"
      }
    },
    {
      "cell_type": "markdown",
      "source": [
        "---Armo la descripción del siniestro\n",
        "drop table  #aux_descripcion\n",
        "select distinct ejercicio, siniestro, sinister_detail\n",
        "into #aux_descripcion\n",
        "from CLAIMS.[GW].[CLAIM_BI_ExportADIC_OK]\n",
        "--where Ejercicio >=2022\n",
        "\n",
        "\n",
        "select * from CLAIMS.[GW].[CLAIM_BI_ExportADIC_OK]\n",
        " where Siniestro = 1348579\n",
        "\n",
        "select * from #aux_descripcion\n",
        "--(187614 rows affected)\n",
        "\n",
        "---Nos quedamos con la máxima fecha de actualización del siniestro\n",
        "\n",
        "select siniestro, item, subsiniestro, max(fecha) as fecha\n",
        "into #aux_max_fecha\n",
        "from claims.[GW].[CLAIM_BI_Stock_Pasivo_ok]\n",
        "group by siniestro, item, subsiniestro\n",
        "\n",
        "--(266961 rows affected)\n",
        "\n",
        "---Nos quedamos con la categoría más actual\n",
        "\n",
        "select distinct a.siniestro, a.item, a.subsiniestro, a.fecha, b.categoria\n",
        "into #aux_categoria\n",
        "from #aux_max_fecha a\n",
        "inner join claims.[GW].[CLAIM_BI_Stock_Pasivo_ok] b\n",
        "on a.siniestro = b.siniestro and a.item = b.item and a.subsiniestro = b.subsiniestro and a.fecha = b.fecha\n",
        "\n",
        "select distinct categoria from claims.[GW].[CLAIM_BI_Stock_Pasivo_ok]\n",
        "\n",
        "select * from claims.[GW].[CLAIM_BI_Stock_Pasivo_ok] where categoria = 'activo'\n",
        "\n",
        "select * from #aux_categoria\n",
        "where Siniestro = 1212553\n",
        "\n",
        "select * from procesosclaims.dbo.entrenamiento_culpable\n",
        "where num_Stro = 1212553\n",
        "--(266990 rows affected)\n",
        "\n",
        "---Me quedo con los datos del siniestro de simba_stro de RCD del 2019 en adelante\n",
        "\n",
        "/*\n",
        "select\n",
        "a.num_pol,\n",
        "a.num_ite,\n",
        "a.num_end,\n",
        "a.cod_stro_di,\n",
        "Stro = convert(int, substring(cod_stro_di,7,7)),\n",
        "NSST = convert(int, substring(cod_stro_di,17,3)),\n",
        "Nite =convert(int, substring(cod_stro_di,14,3)),\n",
        "fec_proc_min=min(a.fec_proc),\n",
        "fec_proc_max=max(a.fec_proc)\n",
        "into #aux_siniestros\n",
        "from MONITORING_DW.dbo.simba_stro a\n",
        "left join Claims.dbo.dim_reclamo d\n",
        "on a.cod_reclamo = d.cod_reclamo\n",
        "where a.cod_sec = 4 and a.cod_ajuste = 1\n",
        "and fec_ocu > 20230400 and d.modelo in ('RCD')\n",
        "group by\n",
        "a.num_pol,\n",
        "a.num_ite,\n",
        "a.num_end,\n",
        "a.cod_stro_di,\n",
        "convert(int, substring(a.cod_stro_di,7,7)),\n",
        "convert(int, substring(cod_stro_di,17,3)),\n",
        "convert(int, substring(cod_stro_di,14,3))\n",
        "*/\n",
        "--(162791 rows affected)\n",
        "\n",
        "drop table #aux_siniestros\n",
        "select\n",
        "a.num_pol\n",
        ",a.num_ite\n",
        "--a.num_end,\n",
        "--a.cod_stro_di,\n",
        ",a.num_Stro--Stro = convert(int, substring(cod_stro_di,7,7)),\n",
        ",a.num_sstro--NSST = convert(int, substring(cod_stro_di,17,3)),\n",
        "--,Nite =convert(int, substring(cod_stro_di,14,3)),\n",
        "--fec_proc_min=min(a.fec_proc),\n",
        "--fec_proc_max=max(a.fec_proc)\n",
        "into #aux_siniestros\n",
        "from claims.dbo.fact_siniestros_ingresados a--MONITORING_DW.dbo.simba_stro a\n",
        "left join claims.BasesRsa.codrecl B--Claims.dbo.dim_reclamo d\n",
        "on a.cod_reclamo = B.codrecl\n",
        "left join reporting_claims.dbo.productores c\n",
        "on a.cod_pro = c.cod_pro\n",
        "where a.num_sec = 4 --and a.cod_ajuste = 1\n",
        "--and fec_ocu > 20230400 and d.modelo in ('RCD')\n",
        "and b.agrup3 = 'RCD'\n",
        "and canal not like '%Uber%'\n",
        "group by\n",
        "a.num_pol,\n",
        "a.num_ite\n",
        "--a.num_end\n",
        "--a.cod_stro_di,\n",
        "--convert(int, substring(a.cod_stro_di,7,7)),\n",
        "--convert(int, substring(cod_stro_di,17,3)),\n",
        "--convert(int, substring(cod_stro_di,14,3))\n",
        ",a.num_Stro--Stro = convert(int, substring(cod_stro_di,7,7)),\n",
        ",a.num_sstro--NSST = convert(int, substring(cod_stro_di,17,3)),\n",
        "--,a.num_ite --Nite =convert(int, substring(cod_stro_di,14,3)),\n",
        "\n",
        "--drop table #aux_base\n",
        "\n",
        "drop table #ver\n",
        "select distinct  a.*, b.sinister_detail, c.categoria\n",
        "into #ver--claims.dbo.culpable_o_no_20230310\n",
        "from #aux_siniestros a\n",
        "inner join #aux_descripcion b\n",
        "on a.num_stro=b.siniestro\n",
        "inner join #aux_categoria c\n",
        "on a.num_stro=c.siniestro and a.num_sstro=c.Subsiniestro\n",
        "and a.num_ite=c.Item\n",
        "where (categoria in ('transable') or left(categoria,10)='defendible')---('Sin clasificar')\n",
        "and len (SINISTER_DETAIL) > 20\n",
        "union all\n",
        "select distinct  a.*, b.sinister_detail, c.categoria\n",
        "from #aux_siniestros a\n",
        "inner join #aux_descripcion b\n",
        "on a.num_stro=b.siniestro\n",
        "inner join #aux_categoria c\n",
        "on a.num_stro=c.siniestro and a.num_sstro=c.Subsiniestro\n",
        "and a.num_ite=c.Item\n",
        "where len(sinister_detail) <20 and (categoria in ('transable') or left(categoria,10)='defendible')---('Sin clasificar')\n",
        " and sinister_detail like '%me choco%'\n",
        "union all\n",
        "select distinct  a.*, b.sinister_detail, categoria = 'No_aplica'--c.categoria\n",
        "from #aux_siniestros a\n",
        "inner join #aux_descripcion b\n",
        "on a.num_stro=b.siniestro\n",
        "inner join #aux_categoria c\n",
        "on a.num_stro=c.siniestro and a.num_sstro=c.Subsiniestro\n",
        "and a.num_ite=c.Item\n",
        "where (categoria in ('transable') or left(categoria,10)='defendible')---('Sin clasificar')\n",
        "and len (SINISTER_DETAIL) < 20 and sinister_detail not like '%me choco%'\n",
        "\n",
        "--68358\n",
        "\n",
        "select distinct CATEGORIA from #ver\n",
        "\n",
        "select distinct SINISTER_DETAIL from #ver where len (SINISTER_DETAIL) < 20 --like  'sin denuncia'\n",
        "\n",
        "select COUNT (*) from #ver where len (SINISTER_DETAIL) <5 --like  'sin denuncia'\n",
        "\n",
        "select * from  #ver where SINISTER_DETAIL = 'h'\n",
        "\n",
        "update a\n",
        "set categoria = 'No_aplica'\n",
        "from #ver a\n",
        "where SINISTER_DETAIL like  '%sin denuncia%' or SINISTER_DETAIL like '%s/ denuncia%'\n",
        "\n",
        "select * from #ver\n",
        "/*\n",
        "drop table #sacar\n",
        "select *\n",
        "into #sacar\n",
        "from #ver\n",
        "where SINISTER_DETAIL like  '%sin denuncia%' or SINISTER_DETAIL like '%s/ denuncia%'\n",
        "\n",
        "drop table procesosclaims.dbo.entrenamiento_culpable\n",
        "select a.*\n",
        "into procesosclaims.dbo.entrenamiento_culpable\n",
        "from #ver a\n",
        "left join #sacar b\n",
        "on a.num_stro = b.num_stro\n",
        "and a.num_sstro = b.num_sstro\n",
        "and a.num_ite = b.num_ite\n",
        "where b.num_stro is null\n",
        "\n",
        "update a\n",
        "set categoria = 'Defendible'\n",
        "from procesosclaims.dbo.entrenamiento_culpable a\n",
        "where CATEGORIA like 'Defendible%'\n",
        "*/\n",
        "\n",
        "update a\n",
        "set categoria = 'No_Culpable'\n",
        "from #ver a--procesosclaims.dbo.entrenamiento_culpable a\n",
        "where CATEGORIA like 'Defendible%'\n",
        "\n",
        "update a\n",
        "set categoria = 'Culpable'\n",
        "from #ver a--procesosclaims.dbo.entrenamiento_culpable a\n",
        "where CATEGORIA like 'transable%'\n",
        "\n",
        "drop table procesosclaims.dbo.entrenamiento_culpable\n",
        "select *\n",
        "into procesosclaims.dbo.entrenamiento_culpable\n",
        "from #ver\n",
        "\n",
        "select concat (num_pol,';'), concat (num_ite,';'), concat (num_stro,';'), concat(num_sstro,';'),concat (sinister_detail,';')\n",
        "--sinister_detail=replace(replace(replace(replace(sinister_detail, char(9), ''),char(10), ''),char(13), ''),char(4), '')\n",
        ",concat (categoria,';')\n",
        "\n",
        "\n",
        "select num_pol,num_ite,num_stro,num_sstro,sinister_detail\n",
        "--sinister_detail=replace(replace(replace(replace(sinister_detail, char(9), ''),char(10), ''),char(13), ''),char(4), '')\n",
        ",categoria\n",
        "from procesosclaims.dbo.entrenamiento_culpable\n",
        "group by num_pol,num_ite,num_stro,num_sstro,sinister_detail\n",
        "--sinister_detail=replace(replace(replace(replace(sinister_detail, char(9), ''),char(10), ''),char(13), ''),char(4), '')\n",
        ",categoria\n",
        "\n",
        "select * from claims.dbo.fact_siniestros_ingresados where num_sec = 4 order by fecha_carga desc\n",
        "\n",
        "select * from Claims.dbo.fact_siniestros_ingresados where num_sec = 4 and num_pol = 50032782\n",
        "\n",
        "select * from MONITORING_DW.dbo.simba_Di where num_pol = 50032782\n",
        "\n",
        "select * from claims.dbo.fact_siniestros_reservas\n",
        "where aaaamm_rva = 202306 and num_sec in (2,22) and reserva >1000000\n",
        "\n",
        "select *\n",
        "from procesosclaims.dbo.entrenamiento_culpable\n",
        "\n",
        "sp_help'entrenamiento_culpable'\n",
        "\n",
        "select *\n",
        "from procesosclaims.dbo.entrenamiento_culpable\n",
        "where num_pol = 5916146\n",
        "\n",
        "\n",
        "\n",
        "(72485 rows affected)\n",
        "\n",
        "select * from procesosclaims.dbo.entrenamiento_culpable\n",
        "drop table claims.dbo.culpable\n",
        "select distinct  a.*, b.sinister_detail, c.categoria\n",
        "into claims.dbo.culpable\n",
        "from #aux_siniestros a\n",
        "inner join #aux_descripcion b\n",
        "on a.num_stro=b.siniestro\n",
        "inner join #aux_categoria c\n",
        "on a.num_stro=c.siniestro and a.num_sstro=c.Subsiniestro\n",
        "and a.num_ite=c.Item\n",
        "where CATEGORIA like 'sin clasificar' and fecha >= '2023-01-01'\n",
        "\n",
        "\n",
        "select * from claims.dbo.culpable\n",
        "\n",
        "select * from #ver where len(SINISTER_DETAIL) < 5\n",
        "\n",
        "select * from #entrenamiento where len(SINISTER_DETAIL) < 30\n",
        "\n",
        "Select * from #entrenamiento where SINISTER_DETAIL like 'SIN DENUNCIA - MED'\n",
        "\n",
        "\n",
        "----(66443 rows affected)\n",
        "\n",
        "select *\n",
        "from pricing.dbo.culpable_o_no_20230310\n",
        "\n",
        "select categoria, count(*)\n",
        "from #aux_base\n",
        "group by categoria\n",
        "order by 1\n",
        "\n",
        "\n",
        "\n",
        "\n",
        "select count(*) from #aux_base\n",
        "where sinister_detail is null\n",
        "\n",
        "select count(*) from #aux_base\n",
        "where categoria is null\n",
        "\n",
        "\n",
        "--103176\n",
        "\n",
        "\n",
        "select iif(res_brt_rsa=0,'no culpable','culpable'), count(*)\n",
        "from #aux_base\n",
        "where sinister_detail is not null\n",
        "group by iif(res_brt_rsa=0,'no culpable','culpable')\n",
        "\n",
        "--(No column name)\t(No column name)\n",
        "--culpable\t48597\n",
        "--no culpable\t54579\n",
        "\n",
        "select *,estado=iif(res_brt_rsa=0,'no culpable','culpable')\n",
        "from #aux_base\n",
        "where sinister_detail is not null\n",
        "\n",
        "select distinct a.*, b.fecha as fecha_ult_cat, b.categoria, d.canal, d.subcanal, e.Ejercicio, e.DESC_TRAMITADOR\n",
        ",cod_estado = iif (f.cod_estado is null, 90, f.cod_estado)\n",
        "from ProcesosClaims.dbo.prediccion_20230516 a\n",
        "left join #aux_categoria b\n",
        "on a.num_Stro = siniestro and a.num_sstro = b.subsiniestro and a.num_ite = b.item\n",
        "left join (select * from Claims.dbo.fact_siniestros_ingresados) c\n",
        "on a.num_Stro = c.num_stro and a.num_sstro = c.num_sstro and a.num_ite = c.num_ite\n",
        "left join Reporting_Claims.dbo.productores d\n",
        "on c.cod_pro = d.cod_pro\n",
        "left join claims.[GW].[CLAIM_BI_ExportADICSubs_OK] e\n",
        "on a.num_Stro = e.Siniestro and a.num_sstro = e.Subsiniestro and a.num_ite = e.Item\n",
        "left join (select * from Claims.dbo.fact_siniestros_reservas where aaaamm_rva = 202306 and num_sec = 4) f\n",
        "on a.num_Stro = f.num_stro and a.num_sstro = f.num_sstro and a.num_ite = f.num_ite\n",
        "\n",
        "select * from #aux_categoria where siniestro = 1302973"
      ],
      "metadata": {
        "id": "kbsVXWXWfDQf"
      }
    },
    {
      "cell_type": "markdown",
      "source": [
        "# Nueva sección"
      ],
      "metadata": {
        "id": "b2dNLvoyepOM"
      }
    },
    {
      "cell_type": "markdown",
      "metadata": {
        "id": "LV5DTexIybKw"
      },
      "source": [
        "Introducción\n",
        "------------"
      ]
    },
    {
      "cell_type": "markdown",
      "metadata": {
        "id": "sT_t9OxYwKIc"
      },
      "source": [
        "Los modelos basados en transformers nos pueden ayudar a resolver varios tipos de problemas. Desde problemas de clasificación y regresión hasta tareas más complejas como resumen de textos o generación de leguaje condicionado. Veamos como resolver el problema de clasificación de tweets sobre el que hemos estado trabajando anteriormente pero ahora utilizando el modelo BERT."
      ]
    },
    {
      "cell_type": "markdown",
      "metadata": {
        "id": "Dcyc_TQ6dis7"
      },
      "source": [
        "### Para ejecutar este notebook"
      ]
    },
    {
      "cell_type": "markdown",
      "metadata": {
        "id": "YWGfRkiHybK1"
      },
      "source": [
        "Para ejecutar este notebook, instale las siguientes librerias:"
      ]
    },
    {
      "cell_type": "code",
      "execution_count": null,
      "metadata": {
        "id": "YXE4ZBrlybK1"
      },
      "outputs": [],
      "source": [
        "!wget https://raw.githubusercontent.com/santiagxf/M72109/master/NLP/Datasets/mascorpus/tweets_marketing.csv \\\n",
        "    --quiet --no-clobber --directory-prefix ./Datasets/mascorpus/\n",
        "\n",
        "!wget https://raw.githubusercontent.com/santiagxf/M72109/master/NLP/Utils/TextDataset.py \\\n",
        "    --quiet --no-clobber --directory-prefix ./Utils/\n",
        "\n",
        "!wget https://raw.githubusercontent.com/santiagxf/M72109/master/docs/nlp/neural/BERT.txt \\\n",
        "    --quiet --no-clobber\n",
        "!pip install -r BERT.txt --quiet"
      ]
    },
    {
      "cell_type": "code",
      "execution_count": null,
      "metadata": {
        "id": "Ntcs1AlpfckX"
      },
      "outputs": [],
      "source": [
        "import warnings\n",
        "warnings.filterwarnings('ignore')"
      ]
    },
    {
      "cell_type": "markdown",
      "metadata": {
        "id": "_gBXNzwYwKIu"
      },
      "source": [
        "Cargamos el set de datos"
      ]
    },
    {
      "cell_type": "code",
      "execution_count": null,
      "metadata": {
        "id": "I8vqJD9JwKIv"
      },
      "outputs": [],
      "source": [
        "#Librería para conectarse a SQL\n",
        "\n",
        "#importar pandas\n",
        "import pandas as pd\n",
        "base = pd.read_excel(\"entrenamiento_Prueba_2.xlsx\")"
      ]
    },
    {
      "cell_type": "code",
      "execution_count": null,
      "metadata": {
        "colab": {
          "base_uri": "https://localhost:8080/",
          "height": 424
        },
        "id": "3ASW2W007lq8",
        "outputId": "e802a6d3-9e39-4bb2-e869-36ab6543b72d"
      },
      "outputs": [
        {
          "output_type": "execute_result",
          "data": {
            "text/plain": [
              "         num_pol  num_Stro                                    sinister_detail  \\\n",
              "0        5380929   1156984                                                  .   \n",
              "1      999999999   1340973                                                  s   \n",
              "2        5420691   1146105                                                  -   \n",
              "3        7050199   1268001                                                  H   \n",
              "4        5538353   1147194                                                 De   \n",
              "...          ...       ...                                                ...   \n",
              "51427    7146656   1293411  El día 30/04 estando estacionado mi Peugeot 40...   \n",
              "51428    7372593   1361076  Yo estaba parado en el semáforo aguardando la ...   \n",
              "51429   50021011   1267063  Venía por Av. Alberdi por mi mano cuando de re...   \n",
              "51430    7221615   1320446  Se contacta empleado del asegurado, denuncia q...   \n",
              "51431    5724463   1215559  Asegurado circulaba con su esposa y su hijo at...   \n",
              "\n",
              "         categoria  Caracteres   \n",
              "0        No_aplica            1  \n",
              "1        No_aplica            1  \n",
              "2        No_aplica            1  \n",
              "3        No_aplica            1  \n",
              "4        No_aplica            2  \n",
              "...            ...          ...  \n",
              "51427  No_Culpable          500  \n",
              "51428  No_Culpable          500  \n",
              "51429  No_Culpable          500  \n",
              "51430     Culpable          500  \n",
              "51431     Culpable          500  \n",
              "\n",
              "[51432 rows x 5 columns]"
            ],
            "text/html": [
              "\n",
              "\n",
              "  <div id=\"df-e05b91b9-244c-46e9-81f5-81421e1ff6fd\">\n",
              "    <div class=\"colab-df-container\">\n",
              "      <div>\n",
              "<style scoped>\n",
              "    .dataframe tbody tr th:only-of-type {\n",
              "        vertical-align: middle;\n",
              "    }\n",
              "\n",
              "    .dataframe tbody tr th {\n",
              "        vertical-align: top;\n",
              "    }\n",
              "\n",
              "    .dataframe thead th {\n",
              "        text-align: right;\n",
              "    }\n",
              "</style>\n",
              "<table border=\"1\" class=\"dataframe\">\n",
              "  <thead>\n",
              "    <tr style=\"text-align: right;\">\n",
              "      <th></th>\n",
              "      <th>num_pol</th>\n",
              "      <th>num_Stro</th>\n",
              "      <th>sinister_detail</th>\n",
              "      <th>categoria</th>\n",
              "      <th>Caracteres</th>\n",
              "    </tr>\n",
              "  </thead>\n",
              "  <tbody>\n",
              "    <tr>\n",
              "      <th>0</th>\n",
              "      <td>5380929</td>\n",
              "      <td>1156984</td>\n",
              "      <td>.</td>\n",
              "      <td>No_aplica</td>\n",
              "      <td>1</td>\n",
              "    </tr>\n",
              "    <tr>\n",
              "      <th>1</th>\n",
              "      <td>999999999</td>\n",
              "      <td>1340973</td>\n",
              "      <td>s</td>\n",
              "      <td>No_aplica</td>\n",
              "      <td>1</td>\n",
              "    </tr>\n",
              "    <tr>\n",
              "      <th>2</th>\n",
              "      <td>5420691</td>\n",
              "      <td>1146105</td>\n",
              "      <td>-</td>\n",
              "      <td>No_aplica</td>\n",
              "      <td>1</td>\n",
              "    </tr>\n",
              "    <tr>\n",
              "      <th>3</th>\n",
              "      <td>7050199</td>\n",
              "      <td>1268001</td>\n",
              "      <td>H</td>\n",
              "      <td>No_aplica</td>\n",
              "      <td>1</td>\n",
              "    </tr>\n",
              "    <tr>\n",
              "      <th>4</th>\n",
              "      <td>5538353</td>\n",
              "      <td>1147194</td>\n",
              "      <td>De</td>\n",
              "      <td>No_aplica</td>\n",
              "      <td>2</td>\n",
              "    </tr>\n",
              "    <tr>\n",
              "      <th>...</th>\n",
              "      <td>...</td>\n",
              "      <td>...</td>\n",
              "      <td>...</td>\n",
              "      <td>...</td>\n",
              "      <td>...</td>\n",
              "    </tr>\n",
              "    <tr>\n",
              "      <th>51427</th>\n",
              "      <td>7146656</td>\n",
              "      <td>1293411</td>\n",
              "      <td>El día 30/04 estando estacionado mi Peugeot 40...</td>\n",
              "      <td>No_Culpable</td>\n",
              "      <td>500</td>\n",
              "    </tr>\n",
              "    <tr>\n",
              "      <th>51428</th>\n",
              "      <td>7372593</td>\n",
              "      <td>1361076</td>\n",
              "      <td>Yo estaba parado en el semáforo aguardando la ...</td>\n",
              "      <td>No_Culpable</td>\n",
              "      <td>500</td>\n",
              "    </tr>\n",
              "    <tr>\n",
              "      <th>51429</th>\n",
              "      <td>50021011</td>\n",
              "      <td>1267063</td>\n",
              "      <td>Venía por Av. Alberdi por mi mano cuando de re...</td>\n",
              "      <td>No_Culpable</td>\n",
              "      <td>500</td>\n",
              "    </tr>\n",
              "    <tr>\n",
              "      <th>51430</th>\n",
              "      <td>7221615</td>\n",
              "      <td>1320446</td>\n",
              "      <td>Se contacta empleado del asegurado, denuncia q...</td>\n",
              "      <td>Culpable</td>\n",
              "      <td>500</td>\n",
              "    </tr>\n",
              "    <tr>\n",
              "      <th>51431</th>\n",
              "      <td>5724463</td>\n",
              "      <td>1215559</td>\n",
              "      <td>Asegurado circulaba con su esposa y su hijo at...</td>\n",
              "      <td>Culpable</td>\n",
              "      <td>500</td>\n",
              "    </tr>\n",
              "  </tbody>\n",
              "</table>\n",
              "<p>51432 rows × 5 columns</p>\n",
              "</div>\n",
              "      <button class=\"colab-df-convert\" onclick=\"convertToInteractive('df-e05b91b9-244c-46e9-81f5-81421e1ff6fd')\"\n",
              "              title=\"Convert this dataframe to an interactive table.\"\n",
              "              style=\"display:none;\">\n",
              "\n",
              "  <svg xmlns=\"http://www.w3.org/2000/svg\" height=\"24px\"viewBox=\"0 0 24 24\"\n",
              "       width=\"24px\">\n",
              "    <path d=\"M0 0h24v24H0V0z\" fill=\"none\"/>\n",
              "    <path d=\"M18.56 5.44l.94 2.06.94-2.06 2.06-.94-2.06-.94-.94-2.06-.94 2.06-2.06.94zm-11 1L8.5 8.5l.94-2.06 2.06-.94-2.06-.94L8.5 2.5l-.94 2.06-2.06.94zm10 10l.94 2.06.94-2.06 2.06-.94-2.06-.94-.94-2.06-.94 2.06-2.06.94z\"/><path d=\"M17.41 7.96l-1.37-1.37c-.4-.4-.92-.59-1.43-.59-.52 0-1.04.2-1.43.59L10.3 9.45l-7.72 7.72c-.78.78-.78 2.05 0 2.83L4 21.41c.39.39.9.59 1.41.59.51 0 1.02-.2 1.41-.59l7.78-7.78 2.81-2.81c.8-.78.8-2.07 0-2.86zM5.41 20L4 18.59l7.72-7.72 1.47 1.35L5.41 20z\"/>\n",
              "  </svg>\n",
              "      </button>\n",
              "\n",
              "\n",
              "\n",
              "    <div id=\"df-af6a0d74-dce2-4775-80df-230bfda25104\">\n",
              "      <button class=\"colab-df-quickchart\" onclick=\"quickchart('df-af6a0d74-dce2-4775-80df-230bfda25104')\"\n",
              "              title=\"Suggest charts.\"\n",
              "              style=\"display:none;\">\n",
              "\n",
              "<svg xmlns=\"http://www.w3.org/2000/svg\" height=\"24px\"viewBox=\"0 0 24 24\"\n",
              "     width=\"24px\">\n",
              "    <g>\n",
              "        <path d=\"M19 3H5c-1.1 0-2 .9-2 2v14c0 1.1.9 2 2 2h14c1.1 0 2-.9 2-2V5c0-1.1-.9-2-2-2zM9 17H7v-7h2v7zm4 0h-2V7h2v10zm4 0h-2v-4h2v4z\"/>\n",
              "    </g>\n",
              "</svg>\n",
              "      </button>\n",
              "    </div>\n",
              "\n",
              "<style>\n",
              "  .colab-df-quickchart {\n",
              "    background-color: #E8F0FE;\n",
              "    border: none;\n",
              "    border-radius: 50%;\n",
              "    cursor: pointer;\n",
              "    display: none;\n",
              "    fill: #1967D2;\n",
              "    height: 32px;\n",
              "    padding: 0 0 0 0;\n",
              "    width: 32px;\n",
              "  }\n",
              "\n",
              "  .colab-df-quickchart:hover {\n",
              "    background-color: #E2EBFA;\n",
              "    box-shadow: 0px 1px 2px rgba(60, 64, 67, 0.3), 0px 1px 3px 1px rgba(60, 64, 67, 0.15);\n",
              "    fill: #174EA6;\n",
              "  }\n",
              "\n",
              "  [theme=dark] .colab-df-quickchart {\n",
              "    background-color: #3B4455;\n",
              "    fill: #D2E3FC;\n",
              "  }\n",
              "\n",
              "  [theme=dark] .colab-df-quickchart:hover {\n",
              "    background-color: #434B5C;\n",
              "    box-shadow: 0px 1px 3px 1px rgba(0, 0, 0, 0.15);\n",
              "    filter: drop-shadow(0px 1px 2px rgba(0, 0, 0, 0.3));\n",
              "    fill: #FFFFFF;\n",
              "  }\n",
              "</style>\n",
              "\n",
              "    <script>\n",
              "      async function quickchart(key) {\n",
              "        const containerElement = document.querySelector('#' + key);\n",
              "        const charts = await google.colab.kernel.invokeFunction(\n",
              "            'suggestCharts', [key], {});\n",
              "      }\n",
              "    </script>\n",
              "\n",
              "      <script>\n",
              "\n",
              "function displayQuickchartButton(domScope) {\n",
              "  let quickchartButtonEl =\n",
              "    domScope.querySelector('#df-af6a0d74-dce2-4775-80df-230bfda25104 button.colab-df-quickchart');\n",
              "  quickchartButtonEl.style.display =\n",
              "    google.colab.kernel.accessAllowed ? 'block' : 'none';\n",
              "}\n",
              "\n",
              "        displayQuickchartButton(document);\n",
              "      </script>\n",
              "      <style>\n",
              "    .colab-df-container {\n",
              "      display:flex;\n",
              "      flex-wrap:wrap;\n",
              "      gap: 12px;\n",
              "    }\n",
              "\n",
              "    .colab-df-convert {\n",
              "      background-color: #E8F0FE;\n",
              "      border: none;\n",
              "      border-radius: 50%;\n",
              "      cursor: pointer;\n",
              "      display: none;\n",
              "      fill: #1967D2;\n",
              "      height: 32px;\n",
              "      padding: 0 0 0 0;\n",
              "      width: 32px;\n",
              "    }\n",
              "\n",
              "    .colab-df-convert:hover {\n",
              "      background-color: #E2EBFA;\n",
              "      box-shadow: 0px 1px 2px rgba(60, 64, 67, 0.3), 0px 1px 3px 1px rgba(60, 64, 67, 0.15);\n",
              "      fill: #174EA6;\n",
              "    }\n",
              "\n",
              "    [theme=dark] .colab-df-convert {\n",
              "      background-color: #3B4455;\n",
              "      fill: #D2E3FC;\n",
              "    }\n",
              "\n",
              "    [theme=dark] .colab-df-convert:hover {\n",
              "      background-color: #434B5C;\n",
              "      box-shadow: 0px 1px 3px 1px rgba(0, 0, 0, 0.15);\n",
              "      filter: drop-shadow(0px 1px 2px rgba(0, 0, 0, 0.3));\n",
              "      fill: #FFFFFF;\n",
              "    }\n",
              "  </style>\n",
              "\n",
              "      <script>\n",
              "        const buttonEl =\n",
              "          document.querySelector('#df-e05b91b9-244c-46e9-81f5-81421e1ff6fd button.colab-df-convert');\n",
              "        buttonEl.style.display =\n",
              "          google.colab.kernel.accessAllowed ? 'block' : 'none';\n",
              "\n",
              "        async function convertToInteractive(key) {\n",
              "          const element = document.querySelector('#df-e05b91b9-244c-46e9-81f5-81421e1ff6fd');\n",
              "          const dataTable =\n",
              "            await google.colab.kernel.invokeFunction('convertToInteractive',\n",
              "                                                     [key], {});\n",
              "          if (!dataTable) return;\n",
              "\n",
              "          const docLinkHtml = 'Like what you see? Visit the ' +\n",
              "            '<a target=\"_blank\" href=https://colab.research.google.com/notebooks/data_table.ipynb>data table notebook</a>'\n",
              "            + ' to learn more about interactive tables.';\n",
              "          element.innerHTML = '';\n",
              "          dataTable['output_type'] = 'display_data';\n",
              "          await google.colab.output.renderOutput(dataTable, element);\n",
              "          const docLink = document.createElement('div');\n",
              "          docLink.innerHTML = docLinkHtml;\n",
              "          element.appendChild(docLink);\n",
              "        }\n",
              "      </script>\n",
              "    </div>\n",
              "  </div>\n"
            ]
          },
          "metadata": {},
          "execution_count": 48
        }
      ],
      "source": [
        "base"
      ]
    },
    {
      "cell_type": "code",
      "execution_count": null,
      "metadata": {
        "id": "SwuW9-kb5Tl1"
      },
      "outputs": [],
      "source": [
        "base=base.dropna()"
      ]
    },
    {
      "cell_type": "code",
      "execution_count": null,
      "metadata": {
        "id": "mvG0UiFT0oTb"
      },
      "outputs": [],
      "source": [
        "#X_train=base[\"sinister_detail\"][(base[\"randomnum\"]!=9) & (base[\"randomnum\"]!=10)]\n",
        "#X_test=base[\"sinister_detail\"][(base[\"randomnum\"]==9) | (base[\"randomnum\"]==10)]\n",
        "#y_train=base[\"estado\"][(base[\"randomnum\"]!=9) & (base[\"randomnum\"]!=10)]\n",
        "#y_test=base[\"estado\"][(base[\"randomnum\"]==9) | (base[\"randomnum\"]==10)]"
      ]
    },
    {
      "cell_type": "code",
      "execution_count": null,
      "metadata": {
        "id": "DnI91qaTWXhx"
      },
      "outputs": [],
      "source": []
    },
    {
      "cell_type": "code",
      "execution_count": null,
      "metadata": {
        "id": "Ie4maAyJ3Ihb"
      },
      "outputs": [],
      "source": [
        "#X_train.head()"
      ]
    },
    {
      "cell_type": "code",
      "execution_count": null,
      "metadata": {
        "id": "P-IBBNPM3Oqi"
      },
      "outputs": [],
      "source": [
        "#X_test.head()"
      ]
    },
    {
      "cell_type": "code",
      "execution_count": null,
      "metadata": {
        "id": "uqnH6slY3jTA"
      },
      "outputs": [],
      "source": [
        "#y_train.head()"
      ]
    },
    {
      "cell_type": "code",
      "execution_count": null,
      "metadata": {
        "id": "8vvSOzt43lUC"
      },
      "outputs": [],
      "source": [
        "#y_test.head()"
      ]
    },
    {
      "cell_type": "code",
      "execution_count": null,
      "metadata": {
        "id": "q-9nkTp9wKIy"
      },
      "outputs": [],
      "source": [
        "#Separamos training y testing\n",
        "from sklearn.model_selection import train_test_split\n",
        "\n",
        "X_train, X_test, y_train, y_test = train_test_split(base[\"sinister_detail\"], base[\"categoria\"],\n",
        "                                                    test_size=0.2,\n",
        "                                                    stratify=base[\"categoria\"])"
      ]
    },
    {
      "cell_type": "markdown",
      "metadata": {
        "id": "ExV73PU4Ak1I"
      },
      "source": [
        "### Verificando el hardware disponible"
      ]
    },
    {
      "cell_type": "code",
      "execution_count": null,
      "metadata": {
        "colab": {
          "base_uri": "https://localhost:8080/"
        },
        "id": "ULqO3R6_Am2I",
        "outputId": "98994ef7-5d31-4dd7-9b72-61c72dd3d379"
      },
      "outputs": [
        {
          "output_type": "stream",
          "name": "stdout",
          "text": [
            "Este notebook se está ejecutando en cuda\n"
          ]
        }
      ],
      "source": [
        "import torch\n",
        "device = torch.device('cuda') if torch.cuda.is_available() else torch.device('cpu')\n",
        "\n",
        "print(\"Este notebook se está ejecutando en\", device)"
      ]
    },
    {
      "cell_type": "code",
      "source": [],
      "metadata": {
        "id": "H9dBN8wwei4y"
      },
      "execution_count": null,
      "outputs": []
    },
    {
      "cell_type": "markdown",
      "metadata": {
        "id": "g27A6eGswKI2"
      },
      "source": [
        "Transferencia de Aprendizaje y Fine-tuning\n",
        "------------------------------------------"
      ]
    },
    {
      "cell_type": "markdown",
      "metadata": {
        "id": "DTeXlnTxwKI2"
      },
      "source": [
        "En general, existen 2 estrategias para utilizar modelos de lenguaje pre-entrenados en una tarea especifica:\n",
        " - Feature-based\n",
        " - Fine-tunning\n",
        "\n",
        "Las técnicas que se conocen como **Feature-based** utiliza arquitecturas especificas para resolver cada una de las tareas de NLP, en donde los pesos de las representaciones vectoriales están \"congeladas\" y no son parámetros que el modelo deba optimizar. En consecuencia, estos modelos son más rápidos de entrenar y permiten aplicar arquitecturas especificas que sean diferenciales en cada una de las tareas.\n",
        "\n",
        "Por el otro lado, las técnicas que emplean **Fine-tunning** tiene la flexibilidad de poder adaptar sus representaciones al permitir que todos los parametros sean optimizados en la tarea en particular. Además, estas arquitecturas permiten resolver multiples problemas de NLP utilizando una mínima cantidad de parametros específicos para la tarea."
      ]
    },
    {
      "cell_type": "markdown",
      "metadata": {
        "id": "OZo4aWuBwKI3"
      },
      "source": [
        "## BETO: BERT en español"
      ]
    },
    {
      "cell_type": "markdown",
      "metadata": {
        "id": "s7-UGaY4wKI3"
      },
      "source": [
        "Al igual que con `word2vec`, entrenar un modelo de lenguaje requiere de una gran cantidad de datos sumado a un poder de computo interesante (cuando BERT fué publicado en 2018, tomó 4 días entrenar el modelo usando 16 TPUs. Si se hubiera entrenado en 8 GPUs hubiera tomado entre 40–70 días). Por este motivo, utilizaremos un modelo pre-entrenado para un cuerpo de texto en español. Este modelo, BETO, fué entrenado sobre un gran corpora de textos. Pueden encontrar más información sobre en [el sitio web del autor](https://github.com/dccuchile/beto)."
      ]
    },
    {
      "cell_type": "markdown",
      "metadata": {
        "id": "lrS1w5dyd5ry"
      },
      "source": [
        "Fue entrenado por la universidad de chile. Lo recomienda Santiago para Español.\n",
        "Son modelos que necesitan Tarjeta Gráfica."
      ]
    },
    {
      "cell_type": "markdown",
      "metadata": {
        "id": "xPouZ0G0wKI4"
      },
      "source": [
        "### Tokenizers"
      ]
    },
    {
      "cell_type": "markdown",
      "metadata": {
        "id": "gZyJe94cwKI4"
      },
      "source": [
        "BERT utiliza su propio tokenizer que está basado en WordPiece. Este tokenizer tiene un vocabulario de 30.000 tokens donde cada secuencia comienza con un token especial [CLS]. Recuerden que los tokenizers dependen del modelo con el que estamos trabajando:"
      ]
    },
    {
      "cell_type": "code",
      "source": [
        "!pip install transformers[torch]\n",
        "!pip install accelerate>=0.20.1"
      ],
      "metadata": {
        "colab": {
          "base_uri": "https://localhost:8080/"
        },
        "id": "l4zRhAR2i7Tf",
        "outputId": "14e69c24-c357-45b1-fa63-d56a4642f279"
      },
      "execution_count": null,
      "outputs": [
        {
          "output_type": "stream",
          "name": "stdout",
          "text": [
            "Requirement already satisfied: transformers[torch] in /usr/local/lib/python3.10/dist-packages (4.31.0)\n",
            "Requirement already satisfied: filelock in /usr/local/lib/python3.10/dist-packages (from transformers[torch]) (3.12.2)\n",
            "Requirement already satisfied: huggingface-hub<1.0,>=0.14.1 in /usr/local/lib/python3.10/dist-packages (from transformers[torch]) (0.16.4)\n",
            "Requirement already satisfied: numpy>=1.17 in /usr/local/lib/python3.10/dist-packages (from transformers[torch]) (1.22.4)\n",
            "Requirement already satisfied: packaging>=20.0 in /usr/local/lib/python3.10/dist-packages (from transformers[torch]) (23.1)\n",
            "Requirement already satisfied: pyyaml>=5.1 in /usr/local/lib/python3.10/dist-packages (from transformers[torch]) (6.0.1)\n",
            "Requirement already satisfied: regex!=2019.12.17 in /usr/local/lib/python3.10/dist-packages (from transformers[torch]) (2022.10.31)\n",
            "Requirement already satisfied: requests in /usr/local/lib/python3.10/dist-packages (from transformers[torch]) (2.27.1)\n",
            "Requirement already satisfied: tokenizers!=0.11.3,<0.14,>=0.11.1 in /usr/local/lib/python3.10/dist-packages (from transformers[torch]) (0.13.3)\n",
            "Requirement already satisfied: safetensors>=0.3.1 in /usr/local/lib/python3.10/dist-packages (from transformers[torch]) (0.3.1)\n",
            "Requirement already satisfied: tqdm>=4.27 in /usr/local/lib/python3.10/dist-packages (from transformers[torch]) (4.65.0)\n",
            "Requirement already satisfied: torch!=1.12.0,>=1.9 in /usr/local/lib/python3.10/dist-packages (from transformers[torch]) (2.0.1+cu118)\n",
            "Requirement already satisfied: accelerate>=0.20.3 in /usr/local/lib/python3.10/dist-packages (from transformers[torch]) (0.21.0)\n",
            "Requirement already satisfied: psutil in /usr/local/lib/python3.10/dist-packages (from accelerate>=0.20.3->transformers[torch]) (5.9.5)\n",
            "Requirement already satisfied: fsspec in /usr/local/lib/python3.10/dist-packages (from huggingface-hub<1.0,>=0.14.1->transformers[torch]) (2023.6.0)\n",
            "Requirement already satisfied: typing-extensions>=3.7.4.3 in /usr/local/lib/python3.10/dist-packages (from huggingface-hub<1.0,>=0.14.1->transformers[torch]) (4.7.1)\n",
            "Requirement already satisfied: sympy in /usr/local/lib/python3.10/dist-packages (from torch!=1.12.0,>=1.9->transformers[torch]) (1.11.1)\n",
            "Requirement already satisfied: networkx in /usr/local/lib/python3.10/dist-packages (from torch!=1.12.0,>=1.9->transformers[torch]) (3.1)\n",
            "Requirement already satisfied: jinja2 in /usr/local/lib/python3.10/dist-packages (from torch!=1.12.0,>=1.9->transformers[torch]) (3.1.2)\n",
            "Requirement already satisfied: triton==2.0.0 in /usr/local/lib/python3.10/dist-packages (from torch!=1.12.0,>=1.9->transformers[torch]) (2.0.0)\n",
            "Requirement already satisfied: cmake in /usr/local/lib/python3.10/dist-packages (from triton==2.0.0->torch!=1.12.0,>=1.9->transformers[torch]) (3.25.2)\n",
            "Requirement already satisfied: lit in /usr/local/lib/python3.10/dist-packages (from triton==2.0.0->torch!=1.12.0,>=1.9->transformers[torch]) (16.0.6)\n",
            "Requirement already satisfied: urllib3<1.27,>=1.21.1 in /usr/local/lib/python3.10/dist-packages (from requests->transformers[torch]) (1.26.16)\n",
            "Requirement already satisfied: certifi>=2017.4.17 in /usr/local/lib/python3.10/dist-packages (from requests->transformers[torch]) (2023.7.22)\n",
            "Requirement already satisfied: charset-normalizer~=2.0.0 in /usr/local/lib/python3.10/dist-packages (from requests->transformers[torch]) (2.0.12)\n",
            "Requirement already satisfied: idna<4,>=2.5 in /usr/local/lib/python3.10/dist-packages (from requests->transformers[torch]) (3.4)\n",
            "Requirement already satisfied: MarkupSafe>=2.0 in /usr/local/lib/python3.10/dist-packages (from jinja2->torch!=1.12.0,>=1.9->transformers[torch]) (2.1.3)\n",
            "Requirement already satisfied: mpmath>=0.19 in /usr/local/lib/python3.10/dist-packages (from sympy->torch!=1.12.0,>=1.9->transformers[torch]) (1.3.0)\n"
          ]
        }
      ]
    },
    {
      "cell_type": "code",
      "source": [
        "#pip install transformers\n",
        "!pip install transformers"
      ],
      "metadata": {
        "colab": {
          "base_uri": "https://localhost:8080/"
        },
        "id": "01YZ4AwOdN-A",
        "outputId": "436cc3e9-b2b6-40d2-a8a5-bfdbf93c3038"
      },
      "execution_count": null,
      "outputs": [
        {
          "output_type": "stream",
          "name": "stdout",
          "text": [
            "Requirement already satisfied: transformers in /usr/local/lib/python3.10/dist-packages (4.31.0)\n",
            "Requirement already satisfied: filelock in /usr/local/lib/python3.10/dist-packages (from transformers) (3.12.2)\n",
            "Requirement already satisfied: huggingface-hub<1.0,>=0.14.1 in /usr/local/lib/python3.10/dist-packages (from transformers) (0.16.4)\n",
            "Requirement already satisfied: numpy>=1.17 in /usr/local/lib/python3.10/dist-packages (from transformers) (1.22.4)\n",
            "Requirement already satisfied: packaging>=20.0 in /usr/local/lib/python3.10/dist-packages (from transformers) (23.1)\n",
            "Requirement already satisfied: pyyaml>=5.1 in /usr/local/lib/python3.10/dist-packages (from transformers) (6.0.1)\n",
            "Requirement already satisfied: regex!=2019.12.17 in /usr/local/lib/python3.10/dist-packages (from transformers) (2022.10.31)\n",
            "Requirement already satisfied: requests in /usr/local/lib/python3.10/dist-packages (from transformers) (2.27.1)\n",
            "Requirement already satisfied: tokenizers!=0.11.3,<0.14,>=0.11.1 in /usr/local/lib/python3.10/dist-packages (from transformers) (0.13.3)\n",
            "Requirement already satisfied: safetensors>=0.3.1 in /usr/local/lib/python3.10/dist-packages (from transformers) (0.3.1)\n",
            "Requirement already satisfied: tqdm>=4.27 in /usr/local/lib/python3.10/dist-packages (from transformers) (4.65.0)\n",
            "Requirement already satisfied: fsspec in /usr/local/lib/python3.10/dist-packages (from huggingface-hub<1.0,>=0.14.1->transformers) (2023.6.0)\n",
            "Requirement already satisfied: typing-extensions>=3.7.4.3 in /usr/local/lib/python3.10/dist-packages (from huggingface-hub<1.0,>=0.14.1->transformers) (4.7.1)\n",
            "Requirement already satisfied: urllib3<1.27,>=1.21.1 in /usr/local/lib/python3.10/dist-packages (from requests->transformers) (1.26.16)\n",
            "Requirement already satisfied: certifi>=2017.4.17 in /usr/local/lib/python3.10/dist-packages (from requests->transformers) (2023.7.22)\n",
            "Requirement already satisfied: charset-normalizer~=2.0.0 in /usr/local/lib/python3.10/dist-packages (from requests->transformers) (2.0.12)\n",
            "Requirement already satisfied: idna<4,>=2.5 in /usr/local/lib/python3.10/dist-packages (from requests->transformers) (3.4)\n"
          ]
        }
      ]
    },
    {
      "cell_type": "code",
      "execution_count": null,
      "metadata": {
        "id": "w9JNa2s5wKI5"
      },
      "outputs": [],
      "source": [
        "import transformers\n",
        "\n",
        "tokenizer = transformers.BertTokenizerFast.from_pretrained('dccuchile/bert-base-spanish-wwm-uncased',\n",
        "                                                           do_lower_case=True)"
      ]
    },
    {
      "cell_type": "markdown",
      "metadata": {
        "id": "DKcYot86wKI8"
      },
      "source": [
        "*Noten que el tokenizer depende del modelo que estamos utilizando*"
      ]
    },
    {
      "cell_type": "markdown",
      "metadata": {
        "id": "L1u3qFaSwKI9"
      },
      "source": [
        "## Crando un modelo de clasificación basado en BERT"
      ]
    },
    {
      "cell_type": "markdown",
      "metadata": {
        "id": "YgmeXBEMwKI9"
      },
      "source": [
        "Trataremos de resolver entonces el mismo problema de clasificación con el que veniamos trabajando: clasificar los tweets dependiendo del sector al que pertenecen.Recordemos que tenemos 7 categorias distintas:"
      ]
    },
    {
      "cell_type": "code",
      "execution_count": null,
      "metadata": {
        "id": "PdSw_zU_wKI-",
        "colab": {
          "base_uri": "https://localhost:8080/"
        },
        "outputId": "26d3d262-9376-422d-8a93-c0b311fa9204"
      },
      "outputs": [
        {
          "output_type": "execute_result",
          "data": {
            "text/plain": [
              "['No_aplica', 'No_Culpable', 'Culpable']"
            ]
          },
          "metadata": {},
          "execution_count": 60
        }
      ],
      "source": [
        "labels = base['categoria'].unique().tolist()\n",
        "labels"
      ]
    },
    {
      "cell_type": "code",
      "execution_count": null,
      "metadata": {
        "id": "ghN1_lx3myJv",
        "colab": {
          "base_uri": "https://localhost:8080/",
          "height": 206
        },
        "outputId": "f00e35ee-a42a-4bd0-d8e6-d62c7fca0c65"
      },
      "outputs": [
        {
          "output_type": "execute_result",
          "data": {
            "text/plain": [
              "     num_pol  num_Stro sinister_detail  categoria  Caracteres \n",
              "0    5380929   1156984               .  No_aplica            1\n",
              "1  999999999   1340973               s  No_aplica            1\n",
              "2    5420691   1146105               -  No_aplica            1\n",
              "3    7050199   1268001               H  No_aplica            1\n",
              "4    5538353   1147194              De  No_aplica            2"
            ],
            "text/html": [
              "\n",
              "\n",
              "  <div id=\"df-73ae95e8-a56a-410d-a403-e3e76aaf0d48\">\n",
              "    <div class=\"colab-df-container\">\n",
              "      <div>\n",
              "<style scoped>\n",
              "    .dataframe tbody tr th:only-of-type {\n",
              "        vertical-align: middle;\n",
              "    }\n",
              "\n",
              "    .dataframe tbody tr th {\n",
              "        vertical-align: top;\n",
              "    }\n",
              "\n",
              "    .dataframe thead th {\n",
              "        text-align: right;\n",
              "    }\n",
              "</style>\n",
              "<table border=\"1\" class=\"dataframe\">\n",
              "  <thead>\n",
              "    <tr style=\"text-align: right;\">\n",
              "      <th></th>\n",
              "      <th>num_pol</th>\n",
              "      <th>num_Stro</th>\n",
              "      <th>sinister_detail</th>\n",
              "      <th>categoria</th>\n",
              "      <th>Caracteres</th>\n",
              "    </tr>\n",
              "  </thead>\n",
              "  <tbody>\n",
              "    <tr>\n",
              "      <th>0</th>\n",
              "      <td>5380929</td>\n",
              "      <td>1156984</td>\n",
              "      <td>.</td>\n",
              "      <td>No_aplica</td>\n",
              "      <td>1</td>\n",
              "    </tr>\n",
              "    <tr>\n",
              "      <th>1</th>\n",
              "      <td>999999999</td>\n",
              "      <td>1340973</td>\n",
              "      <td>s</td>\n",
              "      <td>No_aplica</td>\n",
              "      <td>1</td>\n",
              "    </tr>\n",
              "    <tr>\n",
              "      <th>2</th>\n",
              "      <td>5420691</td>\n",
              "      <td>1146105</td>\n",
              "      <td>-</td>\n",
              "      <td>No_aplica</td>\n",
              "      <td>1</td>\n",
              "    </tr>\n",
              "    <tr>\n",
              "      <th>3</th>\n",
              "      <td>7050199</td>\n",
              "      <td>1268001</td>\n",
              "      <td>H</td>\n",
              "      <td>No_aplica</td>\n",
              "      <td>1</td>\n",
              "    </tr>\n",
              "    <tr>\n",
              "      <th>4</th>\n",
              "      <td>5538353</td>\n",
              "      <td>1147194</td>\n",
              "      <td>De</td>\n",
              "      <td>No_aplica</td>\n",
              "      <td>2</td>\n",
              "    </tr>\n",
              "  </tbody>\n",
              "</table>\n",
              "</div>\n",
              "      <button class=\"colab-df-convert\" onclick=\"convertToInteractive('df-73ae95e8-a56a-410d-a403-e3e76aaf0d48')\"\n",
              "              title=\"Convert this dataframe to an interactive table.\"\n",
              "              style=\"display:none;\">\n",
              "\n",
              "  <svg xmlns=\"http://www.w3.org/2000/svg\" height=\"24px\"viewBox=\"0 0 24 24\"\n",
              "       width=\"24px\">\n",
              "    <path d=\"M0 0h24v24H0V0z\" fill=\"none\"/>\n",
              "    <path d=\"M18.56 5.44l.94 2.06.94-2.06 2.06-.94-2.06-.94-.94-2.06-.94 2.06-2.06.94zm-11 1L8.5 8.5l.94-2.06 2.06-.94-2.06-.94L8.5 2.5l-.94 2.06-2.06.94zm10 10l.94 2.06.94-2.06 2.06-.94-2.06-.94-.94-2.06-.94 2.06-2.06.94z\"/><path d=\"M17.41 7.96l-1.37-1.37c-.4-.4-.92-.59-1.43-.59-.52 0-1.04.2-1.43.59L10.3 9.45l-7.72 7.72c-.78.78-.78 2.05 0 2.83L4 21.41c.39.39.9.59 1.41.59.51 0 1.02-.2 1.41-.59l7.78-7.78 2.81-2.81c.8-.78.8-2.07 0-2.86zM5.41 20L4 18.59l7.72-7.72 1.47 1.35L5.41 20z\"/>\n",
              "  </svg>\n",
              "      </button>\n",
              "\n",
              "\n",
              "\n",
              "    <div id=\"df-cf1b14d9-696f-46b7-815e-64701ff6e0b6\">\n",
              "      <button class=\"colab-df-quickchart\" onclick=\"quickchart('df-cf1b14d9-696f-46b7-815e-64701ff6e0b6')\"\n",
              "              title=\"Suggest charts.\"\n",
              "              style=\"display:none;\">\n",
              "\n",
              "<svg xmlns=\"http://www.w3.org/2000/svg\" height=\"24px\"viewBox=\"0 0 24 24\"\n",
              "     width=\"24px\">\n",
              "    <g>\n",
              "        <path d=\"M19 3H5c-1.1 0-2 .9-2 2v14c0 1.1.9 2 2 2h14c1.1 0 2-.9 2-2V5c0-1.1-.9-2-2-2zM9 17H7v-7h2v7zm4 0h-2V7h2v10zm4 0h-2v-4h2v4z\"/>\n",
              "    </g>\n",
              "</svg>\n",
              "      </button>\n",
              "    </div>\n",
              "\n",
              "<style>\n",
              "  .colab-df-quickchart {\n",
              "    background-color: #E8F0FE;\n",
              "    border: none;\n",
              "    border-radius: 50%;\n",
              "    cursor: pointer;\n",
              "    display: none;\n",
              "    fill: #1967D2;\n",
              "    height: 32px;\n",
              "    padding: 0 0 0 0;\n",
              "    width: 32px;\n",
              "  }\n",
              "\n",
              "  .colab-df-quickchart:hover {\n",
              "    background-color: #E2EBFA;\n",
              "    box-shadow: 0px 1px 2px rgba(60, 64, 67, 0.3), 0px 1px 3px 1px rgba(60, 64, 67, 0.15);\n",
              "    fill: #174EA6;\n",
              "  }\n",
              "\n",
              "  [theme=dark] .colab-df-quickchart {\n",
              "    background-color: #3B4455;\n",
              "    fill: #D2E3FC;\n",
              "  }\n",
              "\n",
              "  [theme=dark] .colab-df-quickchart:hover {\n",
              "    background-color: #434B5C;\n",
              "    box-shadow: 0px 1px 3px 1px rgba(0, 0, 0, 0.15);\n",
              "    filter: drop-shadow(0px 1px 2px rgba(0, 0, 0, 0.3));\n",
              "    fill: #FFFFFF;\n",
              "  }\n",
              "</style>\n",
              "\n",
              "    <script>\n",
              "      async function quickchart(key) {\n",
              "        const containerElement = document.querySelector('#' + key);\n",
              "        const charts = await google.colab.kernel.invokeFunction(\n",
              "            'suggestCharts', [key], {});\n",
              "      }\n",
              "    </script>\n",
              "\n",
              "      <script>\n",
              "\n",
              "function displayQuickchartButton(domScope) {\n",
              "  let quickchartButtonEl =\n",
              "    domScope.querySelector('#df-cf1b14d9-696f-46b7-815e-64701ff6e0b6 button.colab-df-quickchart');\n",
              "  quickchartButtonEl.style.display =\n",
              "    google.colab.kernel.accessAllowed ? 'block' : 'none';\n",
              "}\n",
              "\n",
              "        displayQuickchartButton(document);\n",
              "      </script>\n",
              "      <style>\n",
              "    .colab-df-container {\n",
              "      display:flex;\n",
              "      flex-wrap:wrap;\n",
              "      gap: 12px;\n",
              "    }\n",
              "\n",
              "    .colab-df-convert {\n",
              "      background-color: #E8F0FE;\n",
              "      border: none;\n",
              "      border-radius: 50%;\n",
              "      cursor: pointer;\n",
              "      display: none;\n",
              "      fill: #1967D2;\n",
              "      height: 32px;\n",
              "      padding: 0 0 0 0;\n",
              "      width: 32px;\n",
              "    }\n",
              "\n",
              "    .colab-df-convert:hover {\n",
              "      background-color: #E2EBFA;\n",
              "      box-shadow: 0px 1px 2px rgba(60, 64, 67, 0.3), 0px 1px 3px 1px rgba(60, 64, 67, 0.15);\n",
              "      fill: #174EA6;\n",
              "    }\n",
              "\n",
              "    [theme=dark] .colab-df-convert {\n",
              "      background-color: #3B4455;\n",
              "      fill: #D2E3FC;\n",
              "    }\n",
              "\n",
              "    [theme=dark] .colab-df-convert:hover {\n",
              "      background-color: #434B5C;\n",
              "      box-shadow: 0px 1px 3px 1px rgba(0, 0, 0, 0.15);\n",
              "      filter: drop-shadow(0px 1px 2px rgba(0, 0, 0, 0.3));\n",
              "      fill: #FFFFFF;\n",
              "    }\n",
              "  </style>\n",
              "\n",
              "      <script>\n",
              "        const buttonEl =\n",
              "          document.querySelector('#df-73ae95e8-a56a-410d-a403-e3e76aaf0d48 button.colab-df-convert');\n",
              "        buttonEl.style.display =\n",
              "          google.colab.kernel.accessAllowed ? 'block' : 'none';\n",
              "\n",
              "        async function convertToInteractive(key) {\n",
              "          const element = document.querySelector('#df-73ae95e8-a56a-410d-a403-e3e76aaf0d48');\n",
              "          const dataTable =\n",
              "            await google.colab.kernel.invokeFunction('convertToInteractive',\n",
              "                                                     [key], {});\n",
              "          if (!dataTable) return;\n",
              "\n",
              "          const docLinkHtml = 'Like what you see? Visit the ' +\n",
              "            '<a target=\"_blank\" href=https://colab.research.google.com/notebooks/data_table.ipynb>data table notebook</a>'\n",
              "            + ' to learn more about interactive tables.';\n",
              "          element.innerHTML = '';\n",
              "          dataTable['output_type'] = 'display_data';\n",
              "          await google.colab.output.renderOutput(dataTable, element);\n",
              "          const docLink = document.createElement('div');\n",
              "          docLink.innerHTML = docLinkHtml;\n",
              "          element.appendChild(docLink);\n",
              "        }\n",
              "      </script>\n",
              "    </div>\n",
              "  </div>\n"
            ]
          },
          "metadata": {},
          "execution_count": 61
        }
      ],
      "source": [
        "base.head()"
      ]
    },
    {
      "cell_type": "markdown",
      "metadata": {
        "id": "ci385tLBwKJC"
      },
      "source": [
        "Necesitaremos contar con el numero de categorias para nuestro clasificador:"
      ]
    },
    {
      "cell_type": "code",
      "execution_count": null,
      "metadata": {
        "id": "zdhVi44BwKJC",
        "colab": {
          "base_uri": "https://localhost:8080/"
        },
        "outputId": "ad52f7c0-a801-4e44-c842-2b872adaa106"
      },
      "outputs": [
        {
          "output_type": "execute_result",
          "data": {
            "text/plain": [
              "3"
            ]
          },
          "metadata": {},
          "execution_count": 62
        }
      ],
      "source": [
        "num_labels=len(labels)\n",
        "num_labels"
      ]
    },
    {
      "cell_type": "markdown",
      "metadata": {
        "id": "A5nqY-WbwKJH"
      },
      "source": [
        "Antes de hacer fine-tunning de nuestro modelo, tenemos que instanciar el modelo sobre el cual queremos aplicar esta técnica. Para ello instanciaremos el modelo base el cual no está entrenado en ninguna tarea en particular. De hecho, si habilitan las alertas en este notebook, verán que cuando se carga el modelo, la libreria HuggingFace les advierte sobre esto:"
      ]
    },
    {
      "cell_type": "code",
      "execution_count": null,
      "metadata": {
        "id": "a5egwTZzwKJH",
        "colab": {
          "base_uri": "https://localhost:8080/"
        },
        "outputId": "ca0ac139-9c6e-4332-bc8d-5668beff91bf"
      },
      "outputs": [
        {
          "output_type": "stream",
          "name": "stderr",
          "text": [
            "Some weights of BertForSequenceClassification were not initialized from the model checkpoint at dccuchile/bert-base-spanish-wwm-uncased and are newly initialized: ['classifier.bias', 'classifier.weight', 'bert.pooler.dense.bias', 'bert.pooler.dense.weight']\n",
            "You should probably TRAIN this model on a down-stream task to be able to use it for predictions and inference.\n"
          ]
        }
      ],
      "source": [
        "from transformers import BertForSequenceClassification\n",
        "model = BertForSequenceClassification.from_pretrained('dccuchile/bert-base-spanish-wwm-uncased',\n",
        "                                                      num_labels=num_labels) #Esta es la URL del modelo que queremos utilizar.\n",
        "#La librería Transformers necesita una vectorización específica al igual que el tokenizer correcto.\n",
        "#Meterse en la web de Hugging Face para ver varios modelos preentrenados.\n",
        "#Si necesitamos Regresión, cambiamos a BertForSequenceClassification."
      ]
    },
    {
      "cell_type": "markdown",
      "metadata": {
        "id": "bU6ut9cNwKJL"
      },
      "source": [
        "Construiremos nuestro dataset sobre el que queremos entrenar el modelo. Recuerden que ya habíamos separado el set de datos en porciones para entrenar y para testear el modelo."
      ]
    },
    {
      "cell_type": "markdown",
      "metadata": {
        "id": "4E4hlfckwKJM"
      },
      "source": [
        "### Como entrenar modelos con Transformers"
      ]
    },
    {
      "cell_type": "markdown",
      "metadata": {
        "id": "Jt82_r33wKJN"
      },
      "source": [
        "La librería transformers puede entrenar modelos tanto utilizando TensorFlow como PyTorch como backend. En nuestro caso utilizaremos PyTorch simplemente porque generaremos código un poco más compacto, pero pueden utilizar el backend con el que más cómodos se sientan:"
      ]
    },
    {
      "cell_type": "markdown",
      "metadata": {
        "id": "jiONF7_mwKJN"
      },
      "source": [
        "### Set de datos"
      ]
    },
    {
      "cell_type": "markdown",
      "metadata": {
        "id": "Fjg3zyxvwKJO"
      },
      "source": [
        "Para utilizar el objeto `Trainer` que provee `transformers`, necesitamos crear un objetivo de tipo `Dataset`. `PyTorch` implementa este objeto el modulo `torch.utils.data.Dataset`. Para simplificar la tarea, disponemos de una clase que hace todo el procesamiento de datos y generación de los conjuntos de datos utilizando dicho modulo. Pueden encontrar esta implementación en `Utils.ClassificationDataset`:"
      ]
    },
    {
      "cell_type": "code",
      "execution_count": null,
      "metadata": {
        "id": "fJ7aHmOc0ln8"
      },
      "outputs": [],
      "source": [
        "from Utils.TextDataset import ClassificationDataset"
      ]
    },
    {
      "cell_type": "code",
      "execution_count": null,
      "metadata": {
        "id": "aLy-ZboJ0nKH"
      },
      "outputs": [],
      "source": [
        "train_dataset = ClassificationDataset(examples=X_train, labels=y_train, tokenizer=tokenizer)\n",
        "val_dataset = ClassificationDataset(examples=X_test, labels=y_test, tokenizer=tokenizer)"
      ]
    },
    {
      "cell_type": "code",
      "execution_count": null,
      "metadata": {
        "id": "APkLobytwKJP"
      },
      "outputs": [],
      "source": [
        "from Utils.TextDataset import ClassificationDataset\n",
        "\n",
        "train_dataset = ClassificationDataset(examples=X_train, labels=y_train, tokenizer=tokenizer)\n",
        "val_dataset = ClassificationDataset(examples=X_test, labels=y_test, tokenizer=tokenizer)"
      ]
    },
    {
      "cell_type": "code",
      "execution_count": null,
      "metadata": {
        "id": "NZC32tVO62vW",
        "colab": {
          "base_uri": "https://localhost:8080/"
        },
        "outputId": "a1e0ac07-db2a-4fba-ac8b-cea9da8fe148"
      },
      "outputs": [
        {
          "output_type": "execute_result",
          "data": {
            "text/plain": [
              "num_pol             int64\n",
              "num_Stro            int64\n",
              "sinister_detail    object\n",
              "categoria          object\n",
              "Caracteres          int64\n",
              "dtype: object"
            ]
          },
          "metadata": {},
          "execution_count": 67
        }
      ],
      "source": [
        "base.dtypes"
      ]
    },
    {
      "cell_type": "code",
      "execution_count": null,
      "metadata": {
        "id": "iXuwT-vAJwRA",
        "colab": {
          "base_uri": "https://localhost:8080/"
        },
        "outputId": "8edbdbe1-f3b5-4d2a-add3-01bedc7abfa3"
      },
      "outputs": [
        {
          "output_type": "stream",
          "name": "stdout",
          "text": [
            "Requirement already satisfied: transformers in /usr/local/lib/python3.10/dist-packages (4.31.0)\n",
            "Requirement already satisfied: filelock in /usr/local/lib/python3.10/dist-packages (from transformers) (3.12.2)\n",
            "Requirement already satisfied: huggingface-hub<1.0,>=0.14.1 in /usr/local/lib/python3.10/dist-packages (from transformers) (0.16.4)\n",
            "Requirement already satisfied: numpy>=1.17 in /usr/local/lib/python3.10/dist-packages (from transformers) (1.22.4)\n",
            "Requirement already satisfied: packaging>=20.0 in /usr/local/lib/python3.10/dist-packages (from transformers) (23.1)\n",
            "Requirement already satisfied: pyyaml>=5.1 in /usr/local/lib/python3.10/dist-packages (from transformers) (6.0.1)\n",
            "Requirement already satisfied: regex!=2019.12.17 in /usr/local/lib/python3.10/dist-packages (from transformers) (2022.10.31)\n",
            "Requirement already satisfied: requests in /usr/local/lib/python3.10/dist-packages (from transformers) (2.27.1)\n",
            "Requirement already satisfied: tokenizers!=0.11.3,<0.14,>=0.11.1 in /usr/local/lib/python3.10/dist-packages (from transformers) (0.13.3)\n",
            "Requirement already satisfied: safetensors>=0.3.1 in /usr/local/lib/python3.10/dist-packages (from transformers) (0.3.1)\n",
            "Requirement already satisfied: tqdm>=4.27 in /usr/local/lib/python3.10/dist-packages (from transformers) (4.65.0)\n",
            "Requirement already satisfied: fsspec in /usr/local/lib/python3.10/dist-packages (from huggingface-hub<1.0,>=0.14.1->transformers) (2023.6.0)\n",
            "Requirement already satisfied: typing-extensions>=3.7.4.3 in /usr/local/lib/python3.10/dist-packages (from huggingface-hub<1.0,>=0.14.1->transformers) (4.7.1)\n",
            "Requirement already satisfied: urllib3<1.27,>=1.21.1 in /usr/local/lib/python3.10/dist-packages (from requests->transformers) (1.26.16)\n",
            "Requirement already satisfied: certifi>=2017.4.17 in /usr/local/lib/python3.10/dist-packages (from requests->transformers) (2023.7.22)\n",
            "Requirement already satisfied: charset-normalizer~=2.0.0 in /usr/local/lib/python3.10/dist-packages (from requests->transformers) (2.0.12)\n",
            "Requirement already satisfied: idna<4,>=2.5 in /usr/local/lib/python3.10/dist-packages (from requests->transformers) (3.4)\n"
          ]
        }
      ],
      "source": [
        "#pip install transformers\n",
        "!pip install transformers"
      ]
    },
    {
      "cell_type": "code",
      "execution_count": null,
      "metadata": {
        "id": "TwIHoFsEwKJT"
      },
      "outputs": [],
      "source": [
        "from transformers import Trainer, TrainingArguments"
      ]
    },
    {
      "cell_type": "markdown",
      "metadata": {
        "id": "IwTMGmSxwKJV"
      },
      "source": [
        "### Trainer"
      ]
    },
    {
      "cell_type": "markdown",
      "metadata": {
        "id": "145AAAsPwKJW"
      },
      "source": [
        "Especificamos los parametros con los que entrenaremos nuestro modelo:"
      ]
    },
    {
      "cell_type": "code",
      "source": [
        "!pip install transformers[torch]\n",
        "!pip install accelerate>=0.20.1"
      ],
      "metadata": {
        "colab": {
          "base_uri": "https://localhost:8080/"
        },
        "id": "DEjQJPCHhylt",
        "outputId": "a58b4e7a-f280-4d98-da2f-8e4e26701d23"
      },
      "execution_count": null,
      "outputs": [
        {
          "output_type": "stream",
          "name": "stdout",
          "text": [
            "Requirement already satisfied: transformers[torch] in /usr/local/lib/python3.10/dist-packages (4.31.0)\n",
            "Requirement already satisfied: filelock in /usr/local/lib/python3.10/dist-packages (from transformers[torch]) (3.12.2)\n",
            "Requirement already satisfied: huggingface-hub<1.0,>=0.14.1 in /usr/local/lib/python3.10/dist-packages (from transformers[torch]) (0.16.4)\n",
            "Requirement already satisfied: numpy>=1.17 in /usr/local/lib/python3.10/dist-packages (from transformers[torch]) (1.22.4)\n",
            "Requirement already satisfied: packaging>=20.0 in /usr/local/lib/python3.10/dist-packages (from transformers[torch]) (23.1)\n",
            "Requirement already satisfied: pyyaml>=5.1 in /usr/local/lib/python3.10/dist-packages (from transformers[torch]) (6.0.1)\n",
            "Requirement already satisfied: regex!=2019.12.17 in /usr/local/lib/python3.10/dist-packages (from transformers[torch]) (2022.10.31)\n",
            "Requirement already satisfied: requests in /usr/local/lib/python3.10/dist-packages (from transformers[torch]) (2.27.1)\n",
            "Requirement already satisfied: tokenizers!=0.11.3,<0.14,>=0.11.1 in /usr/local/lib/python3.10/dist-packages (from transformers[torch]) (0.13.3)\n",
            "Requirement already satisfied: safetensors>=0.3.1 in /usr/local/lib/python3.10/dist-packages (from transformers[torch]) (0.3.1)\n",
            "Requirement already satisfied: tqdm>=4.27 in /usr/local/lib/python3.10/dist-packages (from transformers[torch]) (4.65.0)\n",
            "Requirement already satisfied: torch!=1.12.0,>=1.9 in /usr/local/lib/python3.10/dist-packages (from transformers[torch]) (2.0.1+cu118)\n",
            "Requirement already satisfied: accelerate>=0.20.3 in /usr/local/lib/python3.10/dist-packages (from transformers[torch]) (0.21.0)\n",
            "Requirement already satisfied: psutil in /usr/local/lib/python3.10/dist-packages (from accelerate>=0.20.3->transformers[torch]) (5.9.5)\n",
            "Requirement already satisfied: fsspec in /usr/local/lib/python3.10/dist-packages (from huggingface-hub<1.0,>=0.14.1->transformers[torch]) (2023.6.0)\n",
            "Requirement already satisfied: typing-extensions>=3.7.4.3 in /usr/local/lib/python3.10/dist-packages (from huggingface-hub<1.0,>=0.14.1->transformers[torch]) (4.7.1)\n",
            "Requirement already satisfied: sympy in /usr/local/lib/python3.10/dist-packages (from torch!=1.12.0,>=1.9->transformers[torch]) (1.11.1)\n",
            "Requirement already satisfied: networkx in /usr/local/lib/python3.10/dist-packages (from torch!=1.12.0,>=1.9->transformers[torch]) (3.1)\n",
            "Requirement already satisfied: jinja2 in /usr/local/lib/python3.10/dist-packages (from torch!=1.12.0,>=1.9->transformers[torch]) (3.1.2)\n",
            "Requirement already satisfied: triton==2.0.0 in /usr/local/lib/python3.10/dist-packages (from torch!=1.12.0,>=1.9->transformers[torch]) (2.0.0)\n",
            "Requirement already satisfied: cmake in /usr/local/lib/python3.10/dist-packages (from triton==2.0.0->torch!=1.12.0,>=1.9->transformers[torch]) (3.25.2)\n",
            "Requirement already satisfied: lit in /usr/local/lib/python3.10/dist-packages (from triton==2.0.0->torch!=1.12.0,>=1.9->transformers[torch]) (16.0.6)\n",
            "Requirement already satisfied: urllib3<1.27,>=1.21.1 in /usr/local/lib/python3.10/dist-packages (from requests->transformers[torch]) (1.26.16)\n",
            "Requirement already satisfied: certifi>=2017.4.17 in /usr/local/lib/python3.10/dist-packages (from requests->transformers[torch]) (2023.7.22)\n",
            "Requirement already satisfied: charset-normalizer~=2.0.0 in /usr/local/lib/python3.10/dist-packages (from requests->transformers[torch]) (2.0.12)\n",
            "Requirement already satisfied: idna<4,>=2.5 in /usr/local/lib/python3.10/dist-packages (from requests->transformers[torch]) (3.4)\n",
            "Requirement already satisfied: MarkupSafe>=2.0 in /usr/local/lib/python3.10/dist-packages (from jinja2->torch!=1.12.0,>=1.9->transformers[torch]) (2.1.3)\n",
            "Requirement already satisfied: mpmath>=0.19 in /usr/local/lib/python3.10/dist-packages (from sympy->torch!=1.12.0,>=1.9->transformers[torch]) (1.3.0)\n"
          ]
        }
      ]
    },
    {
      "cell_type": "code",
      "execution_count": null,
      "metadata": {
        "id": "rrboy-qrwKJX"
      },
      "outputs": [],
      "source": [
        "training_args = TrainingArguments(\n",
        "    output_dir='./results',          # Directorio de trabajo del Trainer\n",
        "    num_train_epochs=3,              # Numero total de epochs sobre el que entrenaremos\n",
        "    per_device_train_batch_size=16,  # Tamaño del batch de datos por cada dispositivo de entrenamiento\n",
        "    per_device_eval_batch_size=64,   # Tamaño del batch de datos que usaremos para evaluación\n",
        "    warmup_steps=500,                # Numero de pasos que se usaran para determinar la politica de Learning Rate\n",
        "    weight_decay=0.01,               # Weight decay\n",
        "    logging_dir='./logs',            # Directorio de logs\n",
        ")"
      ]
    },
    {
      "cell_type": "markdown",
      "metadata": {
        "id": "C4c5WqRJwKJZ"
      },
      "source": [
        "Instanciamos el Trainer"
      ]
    },
    {
      "cell_type": "code",
      "execution_count": null,
      "metadata": {
        "id": "t18ZsFYFwKJZ"
      },
      "outputs": [],
      "source": [
        "trainer = Trainer(\n",
        "    model=model,                         # modelo sobre el que haremos fine tunning\n",
        "    args=training_args,                  # parametros del entrenamiento\n",
        "    train_dataset=train_dataset,         # set de datos de entrenamiento\n",
        "    eval_dataset=val_dataset,             # set de datos de evaluación\n",
        ")"
      ]
    },
    {
      "cell_type": "code",
      "execution_count": null,
      "metadata": {
        "id": "jBTCaOqMwKJd",
        "colab": {
          "base_uri": "https://localhost:8080/",
          "height": 546
        },
        "outputId": "b6380690-975e-4da5-87ce-b79eab4b17f0"
      },
      "outputs": [
        {
          "output_type": "display_data",
          "data": {
            "text/plain": [
              "<IPython.core.display.HTML object>"
            ],
            "text/html": [
              "\n",
              "    <div>\n",
              "      \n",
              "      <progress value='7716' max='7716' style='width:300px; height:20px; vertical-align: middle;'></progress>\n",
              "      [7716/7716 1:06:16, Epoch 3/3]\n",
              "    </div>\n",
              "    <table border=\"1\" class=\"dataframe\">\n",
              "  <thead>\n",
              " <tr style=\"text-align: left;\">\n",
              "      <th>Step</th>\n",
              "      <th>Training Loss</th>\n",
              "    </tr>\n",
              "  </thead>\n",
              "  <tbody>\n",
              "    <tr>\n",
              "      <td>500</td>\n",
              "      <td>0.556400</td>\n",
              "    </tr>\n",
              "    <tr>\n",
              "      <td>1000</td>\n",
              "      <td>0.376800</td>\n",
              "    </tr>\n",
              "    <tr>\n",
              "      <td>1500</td>\n",
              "      <td>0.344300</td>\n",
              "    </tr>\n",
              "    <tr>\n",
              "      <td>2000</td>\n",
              "      <td>0.322600</td>\n",
              "    </tr>\n",
              "    <tr>\n",
              "      <td>2500</td>\n",
              "      <td>0.297600</td>\n",
              "    </tr>\n",
              "    <tr>\n",
              "      <td>3000</td>\n",
              "      <td>0.277100</td>\n",
              "    </tr>\n",
              "    <tr>\n",
              "      <td>3500</td>\n",
              "      <td>0.255300</td>\n",
              "    </tr>\n",
              "    <tr>\n",
              "      <td>4000</td>\n",
              "      <td>0.259900</td>\n",
              "    </tr>\n",
              "    <tr>\n",
              "      <td>4500</td>\n",
              "      <td>0.257700</td>\n",
              "    </tr>\n",
              "    <tr>\n",
              "      <td>5000</td>\n",
              "      <td>0.241900</td>\n",
              "    </tr>\n",
              "    <tr>\n",
              "      <td>5500</td>\n",
              "      <td>0.193900</td>\n",
              "    </tr>\n",
              "    <tr>\n",
              "      <td>6000</td>\n",
              "      <td>0.171000</td>\n",
              "    </tr>\n",
              "    <tr>\n",
              "      <td>6500</td>\n",
              "      <td>0.181800</td>\n",
              "    </tr>\n",
              "    <tr>\n",
              "      <td>7000</td>\n",
              "      <td>0.175800</td>\n",
              "    </tr>\n",
              "    <tr>\n",
              "      <td>7500</td>\n",
              "      <td>0.173900</td>\n",
              "    </tr>\n",
              "  </tbody>\n",
              "</table><p>"
            ]
          },
          "metadata": {}
        }
      ],
      "source": [
        "history = trainer.train()\n",
        "#Está aprendiendo a utilizar el texto para tratar de clasificar. BERT solo entiende de lenguaje.\n",
        "#Esto es mucho más económico que resolver a BERT completo.\n",
        "#Se puede aumentar la cantidad de epochs."
      ]
    },
    {
      "cell_type": "markdown",
      "metadata": {
        "id": "cqjq7gwXybLD"
      },
      "source": [
        "Podemos inspeccionar nuestro modelo utilizando la herramienta `TensorBoard`"
      ]
    },
    {
      "cell_type": "code",
      "execution_count": null,
      "metadata": {
        "id": "kSiH5nDTwKJf"
      },
      "outputs": [],
      "source": [
        "#!tensorboard --logdir ./logs --bind_all"
      ]
    },
    {
      "cell_type": "code",
      "execution_count": null,
      "metadata": {
        "id": "vYfsTlNDsaWc"
      },
      "outputs": [],
      "source": [
        "#from google.colab import drive\n",
        "#drive.mount('/content/drive')"
      ]
    },
    {
      "cell_type": "markdown",
      "metadata": {
        "id": "gaU5R8A3wscf"
      },
      "source": [
        "En Google Colab, podemos ver `TensorBoard` usando el siguiente `Magic`"
      ]
    },
    {
      "cell_type": "code",
      "execution_count": null,
      "metadata": {
        "id": "hfGvVj9VwxA1"
      },
      "outputs": [],
      "source": [
        "#%load_ext tensorboard\n",
        "#%tensorboard --logdir ./logs"
      ]
    },
    {
      "cell_type": "markdown",
      "metadata": {
        "id": "nXgQvCX2wKJi"
      },
      "source": [
        "Verifiquemos la performance de nuestro modelo"
      ]
    },
    {
      "cell_type": "code",
      "execution_count": null,
      "metadata": {
        "id": "MPvxE9x6wKJi",
        "colab": {
          "base_uri": "https://localhost:8080/",
          "height": 17
        },
        "outputId": "ce19a384-ab11-47d8-e547-c5603e107bd4"
      },
      "outputs": [
        {
          "output_type": "display_data",
          "data": {
            "text/plain": [
              "<IPython.core.display.HTML object>"
            ],
            "text/html": []
          },
          "metadata": {}
        }
      ],
      "source": [
        "predictions = trainer.predict(test_dataset=val_dataset).predictions"
      ]
    },
    {
      "cell_type": "markdown",
      "metadata": {
        "id": "7eP2FkgEwKJk"
      },
      "source": [
        "Para evaluar el modelo, primero deberemos obtener cual es la categoria que obtuvo la mayor probabilidad en la clasificación:"
      ]
    },
    {
      "cell_type": "code",
      "execution_count": null,
      "metadata": {
        "id": "S9sUT-SewKJl"
      },
      "outputs": [],
      "source": [
        "import numpy as np\n",
        "\n",
        "predictions = np.argmax(predictions, axis=1) #Prediction tiene el array con todas las probabilidades.\n",
        "#Argmax nos devuelve la más probable."
      ]
    },
    {
      "cell_type": "markdown",
      "metadata": {
        "id": "i_N1xUx8wKJn"
      },
      "source": [
        "Convertimos los IDs de las categorias a los labels correctos"
      ]
    },
    {
      "cell_type": "code",
      "execution_count": null,
      "metadata": {
        "id": "X60SPOSwwKJn"
      },
      "outputs": [],
      "source": [
        "all_labels = val_dataset.get_labels()\n",
        "predictions_label = [all_labels[idx] for idx in predictions]"
      ]
    },
    {
      "cell_type": "code",
      "execution_count": null,
      "metadata": {
        "id": "-mAS5C3OwKJs",
        "colab": {
          "base_uri": "https://localhost:8080/"
        },
        "outputId": "40fc2e3f-e8fb-46d6-8ea5-797075387fd6"
      },
      "outputs": [
        {
          "output_type": "stream",
          "name": "stdout",
          "text": [
            "              precision    recall  f1-score   support\n",
            "\n",
            "    Culpable       0.87      0.86      0.87      3932\n",
            " No_Culpable       0.91      0.91      0.91      5974\n",
            "   No_aplica       0.98      1.00      0.99       381\n",
            "\n",
            "    accuracy                           0.90     10287\n",
            "   macro avg       0.92      0.93      0.92     10287\n",
            "weighted avg       0.90      0.90      0.90     10287\n",
            "\n"
          ]
        }
      ],
      "source": [
        "from sklearn.metrics import classification_report\n",
        "\n",
        "print(classification_report(y_test, predictions_label))"
      ]
    },
    {
      "cell_type": "code",
      "execution_count": null,
      "metadata": {
        "id": "ZNTRcUsQjCKZ"
      },
      "outputs": [],
      "source": []
    },
    {
      "cell_type": "markdown",
      "metadata": {
        "id": "atQp9bsSybLE"
      },
      "source": [
        "### Persistiendo el modelo"
      ]
    },
    {
      "cell_type": "markdown",
      "metadata": {
        "id": "yFrkGbonybLE"
      },
      "source": [
        "Podemos persistir el modelo para utilizar posteriormente de la siguiente forma. Note que deberemos persistir tanto el modelo como el `tokenizer` ya que los dos funcionan de la mano."
      ]
    },
    {
      "cell_type": "code",
      "execution_count": null,
      "metadata": {
        "id": "D8J0a5c6eu2P",
        "colab": {
          "base_uri": "https://localhost:8080/"
        },
        "outputId": "3ddfbe98-2dad-480d-bf67-fa1a211c8ff0"
      },
      "outputs": [
        {
          "output_type": "execute_result",
          "data": {
            "text/plain": [
              "('culpable_o_no_classifier_bert_20230310/tokenizer_config.json',\n",
              " 'culpable_o_no_classifier_bert_20230310/special_tokens_map.json',\n",
              " 'culpable_o_no_classifier_bert_20230310/vocab.txt',\n",
              " 'culpable_o_no_classifier_bert_20230310/added_tokens.json',\n",
              " 'culpable_o_no_classifier_bert_20230310/tokenizer.json')"
            ]
          },
          "metadata": {},
          "execution_count": 81
        }
      ],
      "source": [
        "model_name = \"culpable_o_no_classifier_bert_20230310\"\n",
        "\n",
        "trainer.save_model(model_name)\n",
        "tokenizer.save_pretrained(model_name)"
      ]
    },
    {
      "cell_type": "markdown",
      "metadata": {
        "id": "Y2RNN6oMybLF"
      },
      "source": [
        "De las lineas anteriores, vemos que tenemos dos elementos para persistir, el modelo propiamente dicho y su correspondiente tokenizer. De hecho, si exploramos un poco más a detalle los elementos que se guardaron, veremos varios archivos que se generan, incluyendo, por ejemplo, el vocabulario que el tokenizer utilizará.\n",
        "\n",
        "Una forma conveniente de empaquetar todos estos archivos podría ser comprimirlos en un único archivo para moverlo de un lado al otro de forma sencilla:"
      ]
    },
    {
      "cell_type": "code",
      "execution_count": null,
      "metadata": {
        "id": "jVvYZ2apybLF",
        "colab": {
          "base_uri": "https://localhost:8080/"
        },
        "outputId": "70adef5b-0ce0-4c6c-eef0-4e15896a747f"
      },
      "outputs": [
        {
          "output_type": "stream",
          "name": "stdout",
          "text": [
            "  adding: culpable_o_no_classifier_bert_20230310/ (stored 0%)\n",
            "  adding: culpable_o_no_classifier_bert_20230310/special_tokens_map.json (deflated 42%)\n",
            "  adding: culpable_o_no_classifier_bert_20230310/pytorch_model.bin (deflated 7%)\n",
            "  adding: culpable_o_no_classifier_bert_20230310/config.json (deflated 51%)\n",
            "  adding: culpable_o_no_classifier_bert_20230310/vocab.txt (deflated 56%)\n",
            "  adding: culpable_o_no_classifier_bert_20230310/tokenizer.json (deflated 71%)\n",
            "  adding: culpable_o_no_classifier_bert_20230310/tokenizer_config.json (deflated 44%)\n",
            "  adding: culpable_o_no_classifier_bert_20230310/training_args.bin (deflated 49%)\n"
          ]
        }
      ],
      "source": [
        "!zip -r culpable_o_no_classifier_bert_20230310.zip culpable_o_no_classifier_bert_20230310"
      ]
    }
  ],
  "metadata": {
    "accelerator": "GPU",
    "colab": {
      "provenance": [],
      "include_colab_link": true
    },
    "gpuClass": "standard",
    "kernel_info": {
      "name": "nlp-py38"
    },
    "kernelspec": {
      "display_name": "Python 3 (ipykernel)",
      "language": "python",
      "name": "python3"
    },
    "language_info": {
      "codemirror_mode": {
        "name": "ipython",
        "version": 3
      },
      "file_extension": ".py",
      "mimetype": "text/x-python",
      "name": "python",
      "nbconvert_exporter": "python",
      "pygments_lexer": "ipython3",
      "version": "3.9.13"
    },
    "nteract": {
      "version": "nteract-front-end@1.0.0"
    }
  },
  "nbformat": 4,
  "nbformat_minor": 0
}